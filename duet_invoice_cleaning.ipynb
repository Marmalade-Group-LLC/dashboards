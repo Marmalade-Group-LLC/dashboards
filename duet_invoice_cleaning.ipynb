{
 "cells": [
  {
   "metadata": {},
   "cell_type": "markdown",
   "source": [
    " 1. Sales Performance Analysis\n",
    "Key Metrics:\n",
    "- Sales by product (in gallons and units)\n",
    "- Moving average volume by SKU (trend analysis)\n",
    "- Average sales price per product/SKU\n",
    "- Number of times each item was ordered (demand frequency)\n",
    "\n",
    "Purpose:\n",
    "- Identify top-selling products, pricing trends, and demand patterns.\n",
    "\n",
    "Key Questions for Churn & Product Movement\n",
    "\n",
    "How much of each product sold this quarter vs. last quarter?\n",
    "\n",
    "Which products’ sales are growing, and which are declining?\n",
    "\n",
    "How quickly are we turning inventory over for each product?\n",
    "\n",
    "Which products have flat or declining movement and might be at risk of churn (slow movers)?"
   ],
   "id": "88467870f41e7540"
  },
  {
   "metadata": {
    "collapsed": true,
    "ExecuteTime": {
     "end_time": "2025-07-27T15:54:58.247787Z",
     "start_time": "2025-07-27T15:54:58.041131Z"
    }
   },
   "cell_type": "code",
   "source": [
    "import pandas as pd\n",
    "import numpy as np\n",
    "import matplotlib.pyplot as plt\n",
    "import seaborn as sns\n",
    "import os\n",
    "import dash\n",
    "from dash import dcc, html, Input, Output\n",
    "import plotly.express as px"
   ],
   "id": "initial_id",
   "outputs": [],
   "execution_count": 1
  },
  {
   "metadata": {
    "ExecuteTime": {
     "end_time": "2025-07-27T15:54:58.463791Z",
     "start_time": "2025-07-27T15:54:58.327843Z"
    }
   },
   "cell_type": "code",
   "source": [
    "directory = \"/Users/nirugidla/PycharmProjects/UMICHIGAN_code/dashboards/\"\n",
    "\n",
    "duet_invoice_data_file = \"DUET__Invoice_Line__c-7_24_2025.csv\"\n",
    "\n",
    "duet_invoice_df = pd.read_csv(os.path.join(directory, duet_invoice_data_file))\n",
    "\n",
    "print(len(duet_invoice_df.columns), \"duet_invoice columns\")"
   ],
   "id": "115ac6ab3c700a55",
   "outputs": [
    {
     "name": "stdout",
     "output_type": "stream",
     "text": [
      "19 duet_invoice columns\n"
     ]
    }
   ],
   "execution_count": 2
  },
  {
   "metadata": {
    "ExecuteTime": {
     "end_time": "2025-07-27T15:54:58.544743Z",
     "start_time": "2025-07-27T15:54:58.542318Z"
    }
   },
   "cell_type": "code",
   "source": "print(duet_invoice_df.shape, \"duet invoice\")",
   "id": "300581fd4df339a4",
   "outputs": [
    {
     "name": "stdout",
     "output_type": "stream",
     "text": [
      "(68404, 19) duet invoice\n"
     ]
    }
   ],
   "execution_count": 3
  },
  {
   "metadata": {
    "ExecuteTime": {
     "end_time": "2025-07-27T15:54:58.683874Z",
     "start_time": "2025-07-27T15:54:58.679563Z"
    }
   },
   "cell_type": "code",
   "source": "duet_invoice_df.columns",
   "id": "a5e31920019f959a",
   "outputs": [
    {
     "data": {
      "text/plain": [
       "Index(['_', 'Id', 'Name', 'CC_Order__c', 'CC_Order_Item__c', 'CC_Product__c',\n",
       "       'Product_Code__c', 'Product_Description__c', 'Product_Family__c',\n",
       "       'Product_Master_Code__c', 'Product_Name__c', 'Product_SKU__c',\n",
       "       'Sales_Tax__c', 'Ship_To__c', 'Total_Cost__c', 'Total_Price__c',\n",
       "       'CreatedDate', 'Bulk__c', 'BurUnitCost__c'],\n",
       "      dtype='object')"
      ]
     },
     "execution_count": 4,
     "metadata": {},
     "output_type": "execute_result"
    }
   ],
   "execution_count": 4
  },
  {
   "metadata": {
    "ExecuteTime": {
     "end_time": "2025-07-27T15:54:59.249321Z",
     "start_time": "2025-07-27T15:54:58.897581Z"
    }
   },
   "cell_type": "code",
   "source": [
    "def process_created_date(df):\n",
    "    # Convert the CreatedDate column to datetime\n",
    "    df['CreatedDate_dt'] = pd.to_datetime(df['CreatedDate'], errors='coerce')\n",
    "    # New column with yyyy-mm-dd\n",
    "    df['CreatedDate_ymd'] = df['CreatedDate_dt'].dt.strftime('%Y-%m-%d')\n",
    "    # New column with year\n",
    "    df['CreatedDate_year'] = df['CreatedDate_dt'].dt.year\n",
    "    # New column with 3-letter month abbreviation\n",
    "    df['CreatedDate_month'] = df['CreatedDate_dt'].dt.strftime('%b')\n",
    "    return df\n",
    "duet_invoice_df = process_created_date(duet_invoice_df)"
   ],
   "id": "eafbea5090b6543d",
   "outputs": [],
   "execution_count": 5
  },
  {
   "metadata": {
    "ExecuteTime": {
     "end_time": "2025-07-27T15:54:59.271543Z",
     "start_time": "2025-07-27T15:54:59.265371Z"
    }
   },
   "cell_type": "code",
   "source": "duet_invoice_df[['CreatedDate', 'BurUnitCost__c', 'Total_Price__c', 'Total_Cost__c','Product_Description__c']]",
   "id": "38d75d12c9025452",
   "outputs": [
    {
     "data": {
      "text/plain": [
       "                        CreatedDate  BurUnitCost__c  Total_Price__c  \\\n",
       "0      2023-05-24T15:18:13.000+0000             NaN        54180.00   \n",
       "1      2023-05-24T15:18:13.000+0000             NaN          246.00   \n",
       "2      2023-05-24T15:18:13.000+0000             NaN          155.55   \n",
       "3      2023-05-24T15:18:13.000+0000             NaN          123.00   \n",
       "4      2023-05-24T15:18:13.000+0000             NaN          615.00   \n",
       "...                             ...             ...             ...   \n",
       "68399  2025-06-27T21:01:11.000+0000         0.00000            0.00   \n",
       "68400  2025-06-27T21:01:14.000+0000         0.00000            0.00   \n",
       "68401  2025-06-27T21:01:14.000+0000         0.00000            0.00   \n",
       "68402  2025-06-27T21:01:14.000+0000         0.00000            0.00   \n",
       "68403  2025-06-27T21:01:14.000+0000         0.00613        28249.00   \n",
       "\n",
       "       Total_Cost__c                             Product_Description__c  \n",
       "0                NaN  Idemitsu Full Synthetic Engine Oil 0W-20 SP/GF...  \n",
       "1                NaN                   Vitalube Cleaning Fluid, 6/1 Gal  \n",
       "2                NaN         Vitalube Elevator Cable Lubricant, 6/1 Gal  \n",
       "3                NaN                   Vitalube Cleaning Fluid, 6/1 Gal  \n",
       "4                NaN                   Vitalube Cleaning Fluid, 6/1 Gal  \n",
       "...              ...                                                ...  \n",
       "68399           0.00                                                  -  \n",
       "68400           0.00  Top 1 Evolution HDMO Full Syn 5W-40 CK-4, 4/5 ...  \n",
       "68401           0.00  Top 1 Action Plus Syn-Blend MCO 2T JASO FD ESL...  \n",
       "68402           0.00  Top 1 VITA LL Gas Engine Oil SAE 40W, 55 Gal Drum  \n",
       "68403       25561.95                 Idemitsu Full Syn 0W-20 GF-6, Bulk  \n",
       "\n",
       "[68404 rows x 5 columns]"
      ],
      "text/html": [
       "<div>\n",
       "<style scoped>\n",
       "    .dataframe tbody tr th:only-of-type {\n",
       "        vertical-align: middle;\n",
       "    }\n",
       "\n",
       "    .dataframe tbody tr th {\n",
       "        vertical-align: top;\n",
       "    }\n",
       "\n",
       "    .dataframe thead th {\n",
       "        text-align: right;\n",
       "    }\n",
       "</style>\n",
       "<table border=\"1\" class=\"dataframe\">\n",
       "  <thead>\n",
       "    <tr style=\"text-align: right;\">\n",
       "      <th></th>\n",
       "      <th>CreatedDate</th>\n",
       "      <th>BurUnitCost__c</th>\n",
       "      <th>Total_Price__c</th>\n",
       "      <th>Total_Cost__c</th>\n",
       "      <th>Product_Description__c</th>\n",
       "    </tr>\n",
       "  </thead>\n",
       "  <tbody>\n",
       "    <tr>\n",
       "      <th>0</th>\n",
       "      <td>2023-05-24T15:18:13.000+0000</td>\n",
       "      <td>NaN</td>\n",
       "      <td>54180.00</td>\n",
       "      <td>NaN</td>\n",
       "      <td>Idemitsu Full Synthetic Engine Oil 0W-20 SP/GF...</td>\n",
       "    </tr>\n",
       "    <tr>\n",
       "      <th>1</th>\n",
       "      <td>2023-05-24T15:18:13.000+0000</td>\n",
       "      <td>NaN</td>\n",
       "      <td>246.00</td>\n",
       "      <td>NaN</td>\n",
       "      <td>Vitalube Cleaning Fluid, 6/1 Gal</td>\n",
       "    </tr>\n",
       "    <tr>\n",
       "      <th>2</th>\n",
       "      <td>2023-05-24T15:18:13.000+0000</td>\n",
       "      <td>NaN</td>\n",
       "      <td>155.55</td>\n",
       "      <td>NaN</td>\n",
       "      <td>Vitalube Elevator Cable Lubricant, 6/1 Gal</td>\n",
       "    </tr>\n",
       "    <tr>\n",
       "      <th>3</th>\n",
       "      <td>2023-05-24T15:18:13.000+0000</td>\n",
       "      <td>NaN</td>\n",
       "      <td>123.00</td>\n",
       "      <td>NaN</td>\n",
       "      <td>Vitalube Cleaning Fluid, 6/1 Gal</td>\n",
       "    </tr>\n",
       "    <tr>\n",
       "      <th>4</th>\n",
       "      <td>2023-05-24T15:18:13.000+0000</td>\n",
       "      <td>NaN</td>\n",
       "      <td>615.00</td>\n",
       "      <td>NaN</td>\n",
       "      <td>Vitalube Cleaning Fluid, 6/1 Gal</td>\n",
       "    </tr>\n",
       "    <tr>\n",
       "      <th>...</th>\n",
       "      <td>...</td>\n",
       "      <td>...</td>\n",
       "      <td>...</td>\n",
       "      <td>...</td>\n",
       "      <td>...</td>\n",
       "    </tr>\n",
       "    <tr>\n",
       "      <th>68399</th>\n",
       "      <td>2025-06-27T21:01:11.000+0000</td>\n",
       "      <td>0.00000</td>\n",
       "      <td>0.00</td>\n",
       "      <td>0.00</td>\n",
       "      <td>-</td>\n",
       "    </tr>\n",
       "    <tr>\n",
       "      <th>68400</th>\n",
       "      <td>2025-06-27T21:01:14.000+0000</td>\n",
       "      <td>0.00000</td>\n",
       "      <td>0.00</td>\n",
       "      <td>0.00</td>\n",
       "      <td>Top 1 Evolution HDMO Full Syn 5W-40 CK-4, 4/5 ...</td>\n",
       "    </tr>\n",
       "    <tr>\n",
       "      <th>68401</th>\n",
       "      <td>2025-06-27T21:01:14.000+0000</td>\n",
       "      <td>0.00000</td>\n",
       "      <td>0.00</td>\n",
       "      <td>0.00</td>\n",
       "      <td>Top 1 Action Plus Syn-Blend MCO 2T JASO FD ESL...</td>\n",
       "    </tr>\n",
       "    <tr>\n",
       "      <th>68402</th>\n",
       "      <td>2025-06-27T21:01:14.000+0000</td>\n",
       "      <td>0.00000</td>\n",
       "      <td>0.00</td>\n",
       "      <td>0.00</td>\n",
       "      <td>Top 1 VITA LL Gas Engine Oil SAE 40W, 55 Gal Drum</td>\n",
       "    </tr>\n",
       "    <tr>\n",
       "      <th>68403</th>\n",
       "      <td>2025-06-27T21:01:14.000+0000</td>\n",
       "      <td>0.00613</td>\n",
       "      <td>28249.00</td>\n",
       "      <td>25561.95</td>\n",
       "      <td>Idemitsu Full Syn 0W-20 GF-6, Bulk</td>\n",
       "    </tr>\n",
       "  </tbody>\n",
       "</table>\n",
       "<p>68404 rows × 5 columns</p>\n",
       "</div>"
      ]
     },
     "execution_count": 6,
     "metadata": {},
     "output_type": "execute_result"
    }
   ],
   "execution_count": 6
  },
  {
   "metadata": {
    "ExecuteTime": {
     "end_time": "2025-07-27T15:54:59.314547Z",
     "start_time": "2025-07-27T15:54:59.300624Z"
    }
   },
   "cell_type": "code",
   "source": "duet_invoice_df[['CreatedDate', 'BurUnitCost__c', 'Total_Price__c', 'Total_Cost__c','Product_Description__c']].describe()",
   "id": "8d3066b602c22bc",
   "outputs": [
    {
     "data": {
      "text/plain": [
       "       BurUnitCost__c  Total_Price__c  Total_Cost__c\n",
       "count    37295.000000    5.114200e+04   3.729600e+04\n",
       "mean         1.584106    8.522056e+03   6.962957e+03\n",
       "std          7.728378    1.799913e+04   2.040563e+04\n",
       "min          0.000000   -5.919678e+04   0.000000e+00\n",
       "25%          0.000000    6.677250e+02   5.910000e+02\n",
       "50%          0.009920    3.745500e+03   2.874015e+03\n",
       "75%          0.241905    1.125686e+04   8.572397e+03\n",
       "max        495.340000    2.636600e+06   2.331420e+06"
      ],
      "text/html": [
       "<div>\n",
       "<style scoped>\n",
       "    .dataframe tbody tr th:only-of-type {\n",
       "        vertical-align: middle;\n",
       "    }\n",
       "\n",
       "    .dataframe tbody tr th {\n",
       "        vertical-align: top;\n",
       "    }\n",
       "\n",
       "    .dataframe thead th {\n",
       "        text-align: right;\n",
       "    }\n",
       "</style>\n",
       "<table border=\"1\" class=\"dataframe\">\n",
       "  <thead>\n",
       "    <tr style=\"text-align: right;\">\n",
       "      <th></th>\n",
       "      <th>BurUnitCost__c</th>\n",
       "      <th>Total_Price__c</th>\n",
       "      <th>Total_Cost__c</th>\n",
       "    </tr>\n",
       "  </thead>\n",
       "  <tbody>\n",
       "    <tr>\n",
       "      <th>count</th>\n",
       "      <td>37295.000000</td>\n",
       "      <td>5.114200e+04</td>\n",
       "      <td>3.729600e+04</td>\n",
       "    </tr>\n",
       "    <tr>\n",
       "      <th>mean</th>\n",
       "      <td>1.584106</td>\n",
       "      <td>8.522056e+03</td>\n",
       "      <td>6.962957e+03</td>\n",
       "    </tr>\n",
       "    <tr>\n",
       "      <th>std</th>\n",
       "      <td>7.728378</td>\n",
       "      <td>1.799913e+04</td>\n",
       "      <td>2.040563e+04</td>\n",
       "    </tr>\n",
       "    <tr>\n",
       "      <th>min</th>\n",
       "      <td>0.000000</td>\n",
       "      <td>-5.919678e+04</td>\n",
       "      <td>0.000000e+00</td>\n",
       "    </tr>\n",
       "    <tr>\n",
       "      <th>25%</th>\n",
       "      <td>0.000000</td>\n",
       "      <td>6.677250e+02</td>\n",
       "      <td>5.910000e+02</td>\n",
       "    </tr>\n",
       "    <tr>\n",
       "      <th>50%</th>\n",
       "      <td>0.009920</td>\n",
       "      <td>3.745500e+03</td>\n",
       "      <td>2.874015e+03</td>\n",
       "    </tr>\n",
       "    <tr>\n",
       "      <th>75%</th>\n",
       "      <td>0.241905</td>\n",
       "      <td>1.125686e+04</td>\n",
       "      <td>8.572397e+03</td>\n",
       "    </tr>\n",
       "    <tr>\n",
       "      <th>max</th>\n",
       "      <td>495.340000</td>\n",
       "      <td>2.636600e+06</td>\n",
       "      <td>2.331420e+06</td>\n",
       "    </tr>\n",
       "  </tbody>\n",
       "</table>\n",
       "</div>"
      ]
     },
     "execution_count": 7,
     "metadata": {},
     "output_type": "execute_result"
    }
   ],
   "execution_count": 7
  },
  {
   "metadata": {
    "ExecuteTime": {
     "end_time": "2025-07-27T15:54:59.475150Z",
     "start_time": "2025-07-27T15:54:59.466800Z"
    }
   },
   "cell_type": "code",
   "source": "duet_invoice_df.head()",
   "id": "9789540797133a72",
   "outputs": [
    {
     "data": {
      "text/plain": [
       "                         _                  Id      Name         CC_Order__c  \\\n",
       "0  [DUET__Invoice_Line__c]  a4r5d000002ZKZCAA4  268332_1  a0n5d00000aAjWMAA0   \n",
       "1  [DUET__Invoice_Line__c]  a4r5d000002ZKZDAA4  268334_1  a0n5d00000aAeL7AAK   \n",
       "2  [DUET__Invoice_Line__c]  a4r5d000002ZKZEAA4  268335_1  a0n5d00000aAegjAAC   \n",
       "3  [DUET__Invoice_Line__c]  a4r5d000002ZKZFAA4  268336_1  a0n5d00000aAeygAAC   \n",
       "4  [DUET__Invoice_Line__c]  a4r5d000002ZKZGAA4  268337_1  a0n5d00000aAfphAAC   \n",
       "\n",
       "   CC_Order_Item__c       CC_Product__c Product_Code__c  \\\n",
       "0               NaN  a1F5d00000nfcP6EAI             NaN   \n",
       "1               NaN  a1F5d00000qScszEAC               -   \n",
       "2               NaN  a1F5d00000qScsxEAC               -   \n",
       "3               NaN  a1F5d00000qScszEAC               -   \n",
       "4               NaN  a1F5d00000qScszEAC               -   \n",
       "\n",
       "                              Product_Description__c Product_Family__c  \\\n",
       "0  Idemitsu Full Synthetic Engine Oil 0W-20 SP/GF...         Motor Oil   \n",
       "1                   Vitalube Cleaning Fluid, 6/1 Gal    Industrial Oil   \n",
       "2         Vitalube Elevator Cable Lubricant, 6/1 Gal    Industrial Oil   \n",
       "3                   Vitalube Cleaning Fluid, 6/1 Gal    Industrial Oil   \n",
       "4                   Vitalube Cleaning Fluid, 6/1 Gal    Industrial Oil   \n",
       "\n",
       "  Product_Master_Code__c  ...          Ship_To__c Total_Cost__c  \\\n",
       "0           ILA-LZ0W20-M  ...  a025d000013B8J6AAK           NaN   \n",
       "1                60905DH  ...  a025d000013AdPkAAK           NaN   \n",
       "2                50020EN  ...  a025d000013BhbWAAS           NaN   \n",
       "3                60905DH  ...  a025d000013BjSLAA0           NaN   \n",
       "4                60905DH  ...  a025d000013AeacAAC           NaN   \n",
       "\n",
       "   Total_Price__c                   CreatedDate  Bulk__c  BurUnitCost__c  \\\n",
       "0        54180.00  2023-05-24T15:18:13.000+0000     True             NaN   \n",
       "1          246.00  2023-05-24T15:18:13.000+0000    False             NaN   \n",
       "2          155.55  2023-05-24T15:18:13.000+0000    False             NaN   \n",
       "3          123.00  2023-05-24T15:18:13.000+0000    False             NaN   \n",
       "4          615.00  2023-05-24T15:18:13.000+0000    False             NaN   \n",
       "\n",
       "             CreatedDate_dt  CreatedDate_ymd  CreatedDate_year  \\\n",
       "0 2023-05-24 15:18:13+00:00       2023-05-24              2023   \n",
       "1 2023-05-24 15:18:13+00:00       2023-05-24              2023   \n",
       "2 2023-05-24 15:18:13+00:00       2023-05-24              2023   \n",
       "3 2023-05-24 15:18:13+00:00       2023-05-24              2023   \n",
       "4 2023-05-24 15:18:13+00:00       2023-05-24              2023   \n",
       "\n",
       "  CreatedDate_month  \n",
       "0               May  \n",
       "1               May  \n",
       "2               May  \n",
       "3               May  \n",
       "4               May  \n",
       "\n",
       "[5 rows x 23 columns]"
      ],
      "text/html": [
       "<div>\n",
       "<style scoped>\n",
       "    .dataframe tbody tr th:only-of-type {\n",
       "        vertical-align: middle;\n",
       "    }\n",
       "\n",
       "    .dataframe tbody tr th {\n",
       "        vertical-align: top;\n",
       "    }\n",
       "\n",
       "    .dataframe thead th {\n",
       "        text-align: right;\n",
       "    }\n",
       "</style>\n",
       "<table border=\"1\" class=\"dataframe\">\n",
       "  <thead>\n",
       "    <tr style=\"text-align: right;\">\n",
       "      <th></th>\n",
       "      <th>_</th>\n",
       "      <th>Id</th>\n",
       "      <th>Name</th>\n",
       "      <th>CC_Order__c</th>\n",
       "      <th>CC_Order_Item__c</th>\n",
       "      <th>CC_Product__c</th>\n",
       "      <th>Product_Code__c</th>\n",
       "      <th>Product_Description__c</th>\n",
       "      <th>Product_Family__c</th>\n",
       "      <th>Product_Master_Code__c</th>\n",
       "      <th>...</th>\n",
       "      <th>Ship_To__c</th>\n",
       "      <th>Total_Cost__c</th>\n",
       "      <th>Total_Price__c</th>\n",
       "      <th>CreatedDate</th>\n",
       "      <th>Bulk__c</th>\n",
       "      <th>BurUnitCost__c</th>\n",
       "      <th>CreatedDate_dt</th>\n",
       "      <th>CreatedDate_ymd</th>\n",
       "      <th>CreatedDate_year</th>\n",
       "      <th>CreatedDate_month</th>\n",
       "    </tr>\n",
       "  </thead>\n",
       "  <tbody>\n",
       "    <tr>\n",
       "      <th>0</th>\n",
       "      <td>[DUET__Invoice_Line__c]</td>\n",
       "      <td>a4r5d000002ZKZCAA4</td>\n",
       "      <td>268332_1</td>\n",
       "      <td>a0n5d00000aAjWMAA0</td>\n",
       "      <td>NaN</td>\n",
       "      <td>a1F5d00000nfcP6EAI</td>\n",
       "      <td>NaN</td>\n",
       "      <td>Idemitsu Full Synthetic Engine Oil 0W-20 SP/GF...</td>\n",
       "      <td>Motor Oil</td>\n",
       "      <td>ILA-LZ0W20-M</td>\n",
       "      <td>...</td>\n",
       "      <td>a025d000013B8J6AAK</td>\n",
       "      <td>NaN</td>\n",
       "      <td>54180.00</td>\n",
       "      <td>2023-05-24T15:18:13.000+0000</td>\n",
       "      <td>True</td>\n",
       "      <td>NaN</td>\n",
       "      <td>2023-05-24 15:18:13+00:00</td>\n",
       "      <td>2023-05-24</td>\n",
       "      <td>2023</td>\n",
       "      <td>May</td>\n",
       "    </tr>\n",
       "    <tr>\n",
       "      <th>1</th>\n",
       "      <td>[DUET__Invoice_Line__c]</td>\n",
       "      <td>a4r5d000002ZKZDAA4</td>\n",
       "      <td>268334_1</td>\n",
       "      <td>a0n5d00000aAeL7AAK</td>\n",
       "      <td>NaN</td>\n",
       "      <td>a1F5d00000qScszEAC</td>\n",
       "      <td>-</td>\n",
       "      <td>Vitalube Cleaning Fluid, 6/1 Gal</td>\n",
       "      <td>Industrial Oil</td>\n",
       "      <td>60905DH</td>\n",
       "      <td>...</td>\n",
       "      <td>a025d000013AdPkAAK</td>\n",
       "      <td>NaN</td>\n",
       "      <td>246.00</td>\n",
       "      <td>2023-05-24T15:18:13.000+0000</td>\n",
       "      <td>False</td>\n",
       "      <td>NaN</td>\n",
       "      <td>2023-05-24 15:18:13+00:00</td>\n",
       "      <td>2023-05-24</td>\n",
       "      <td>2023</td>\n",
       "      <td>May</td>\n",
       "    </tr>\n",
       "    <tr>\n",
       "      <th>2</th>\n",
       "      <td>[DUET__Invoice_Line__c]</td>\n",
       "      <td>a4r5d000002ZKZEAA4</td>\n",
       "      <td>268335_1</td>\n",
       "      <td>a0n5d00000aAegjAAC</td>\n",
       "      <td>NaN</td>\n",
       "      <td>a1F5d00000qScsxEAC</td>\n",
       "      <td>-</td>\n",
       "      <td>Vitalube Elevator Cable Lubricant, 6/1 Gal</td>\n",
       "      <td>Industrial Oil</td>\n",
       "      <td>50020EN</td>\n",
       "      <td>...</td>\n",
       "      <td>a025d000013BhbWAAS</td>\n",
       "      <td>NaN</td>\n",
       "      <td>155.55</td>\n",
       "      <td>2023-05-24T15:18:13.000+0000</td>\n",
       "      <td>False</td>\n",
       "      <td>NaN</td>\n",
       "      <td>2023-05-24 15:18:13+00:00</td>\n",
       "      <td>2023-05-24</td>\n",
       "      <td>2023</td>\n",
       "      <td>May</td>\n",
       "    </tr>\n",
       "    <tr>\n",
       "      <th>3</th>\n",
       "      <td>[DUET__Invoice_Line__c]</td>\n",
       "      <td>a4r5d000002ZKZFAA4</td>\n",
       "      <td>268336_1</td>\n",
       "      <td>a0n5d00000aAeygAAC</td>\n",
       "      <td>NaN</td>\n",
       "      <td>a1F5d00000qScszEAC</td>\n",
       "      <td>-</td>\n",
       "      <td>Vitalube Cleaning Fluid, 6/1 Gal</td>\n",
       "      <td>Industrial Oil</td>\n",
       "      <td>60905DH</td>\n",
       "      <td>...</td>\n",
       "      <td>a025d000013BjSLAA0</td>\n",
       "      <td>NaN</td>\n",
       "      <td>123.00</td>\n",
       "      <td>2023-05-24T15:18:13.000+0000</td>\n",
       "      <td>False</td>\n",
       "      <td>NaN</td>\n",
       "      <td>2023-05-24 15:18:13+00:00</td>\n",
       "      <td>2023-05-24</td>\n",
       "      <td>2023</td>\n",
       "      <td>May</td>\n",
       "    </tr>\n",
       "    <tr>\n",
       "      <th>4</th>\n",
       "      <td>[DUET__Invoice_Line__c]</td>\n",
       "      <td>a4r5d000002ZKZGAA4</td>\n",
       "      <td>268337_1</td>\n",
       "      <td>a0n5d00000aAfphAAC</td>\n",
       "      <td>NaN</td>\n",
       "      <td>a1F5d00000qScszEAC</td>\n",
       "      <td>-</td>\n",
       "      <td>Vitalube Cleaning Fluid, 6/1 Gal</td>\n",
       "      <td>Industrial Oil</td>\n",
       "      <td>60905DH</td>\n",
       "      <td>...</td>\n",
       "      <td>a025d000013AeacAAC</td>\n",
       "      <td>NaN</td>\n",
       "      <td>615.00</td>\n",
       "      <td>2023-05-24T15:18:13.000+0000</td>\n",
       "      <td>False</td>\n",
       "      <td>NaN</td>\n",
       "      <td>2023-05-24 15:18:13+00:00</td>\n",
       "      <td>2023-05-24</td>\n",
       "      <td>2023</td>\n",
       "      <td>May</td>\n",
       "    </tr>\n",
       "  </tbody>\n",
       "</table>\n",
       "<p>5 rows × 23 columns</p>\n",
       "</div>"
      ]
     },
     "execution_count": 8,
     "metadata": {},
     "output_type": "execute_result"
    }
   ],
   "execution_count": 8
  },
  {
   "metadata": {
    "ExecuteTime": {
     "end_time": "2025-07-27T15:54:59.624720Z",
     "start_time": "2025-07-27T15:54:59.616387Z"
    }
   },
   "cell_type": "code",
   "source": "duet_invoice_df['CC_Product__c'].value_counts()",
   "id": "21822f3cbf22f83c",
   "outputs": [
    {
     "data": {
      "text/plain": [
       "CC_Product__c\n",
       "a1F3h0000003wM0EAI    1233\n",
       "a1F5d00000nfcP6EAI     992\n",
       "a1F3h0000003wpJEAQ     924\n",
       "a1F3h0000003rElEAI     896\n",
       "a1F3h0000003wpYEAQ     869\n",
       "                      ... \n",
       "a1F5d00000nlqViEAI       1\n",
       "a1F5d00000nket0EAA       1\n",
       "a1FQk00000094fXMAQ       1\n",
       "a1FQk00000094fWMAQ       1\n",
       "a1F5d00000nffyoEAA       1\n",
       "Name: count, Length: 2293, dtype: int64"
      ]
     },
     "execution_count": 9,
     "metadata": {},
     "output_type": "execute_result"
    }
   ],
   "execution_count": 9
  },
  {
   "metadata": {
    "ExecuteTime": {
     "end_time": "2025-07-27T15:55:00.080125Z",
     "start_time": "2025-07-27T15:55:00.072431Z"
    }
   },
   "cell_type": "code",
   "source": "duet_invoice_df['Product_Name__c'].value_counts()",
   "id": "26f7face81e08314",
   "outputs": [
    {
     "data": {
      "text/plain": [
       "Product_Name__c\n",
       "-                 6873\n",
       "3143-000          1233\n",
       "ILA-LZ0W20         992\n",
       "721047             924\n",
       "7483-000           896\n",
       "                  ... \n",
       "85911-005            1\n",
       "DYN10000004977       1\n",
       "5146000              1\n",
       "5145900              1\n",
       "DR1-00003            1\n",
       "Name: count, Length: 2294, dtype: int64"
      ]
     },
     "execution_count": 10,
     "metadata": {},
     "output_type": "execute_result"
    }
   ],
   "execution_count": 10
  },
  {
   "metadata": {
    "ExecuteTime": {
     "end_time": "2025-07-27T15:55:00.479711Z",
     "start_time": "2025-07-27T15:55:00.468042Z"
    }
   },
   "cell_type": "code",
   "source": [
    "# keep only rows where Product_Name__c is NOT exactly '-'\n",
    "duet_invoice_df = duet_invoice_df[duet_invoice_df['Product_Name__c'] != '-']"
   ],
   "id": "f9898f048f142805",
   "outputs": [],
   "execution_count": 11
  },
  {
   "metadata": {
    "ExecuteTime": {
     "end_time": "2025-07-27T15:55:00.883383Z",
     "start_time": "2025-07-27T15:55:00.878829Z"
    }
   },
   "cell_type": "code",
   "source": [
    "['Sales_Tax__c', 'Ship_To__c', 'Total_Cost__c', 'Total_Price__c', 'BurUnitCost__c',\n",
    "       'CreatedDate_ymd', 'CreatedDate_year', 'CreatedDate_month'] #numeric values or quantitative dat"
   ],
   "id": "15e1286f24d401e2",
   "outputs": [
    {
     "data": {
      "text/plain": [
       "['Sales_Tax__c',\n",
       " 'Ship_To__c',\n",
       " 'Total_Cost__c',\n",
       " 'Total_Price__c',\n",
       " 'BurUnitCost__c',\n",
       " 'CreatedDate_ymd',\n",
       " 'CreatedDate_year',\n",
       " 'CreatedDate_month']"
      ]
     },
     "execution_count": 12,
     "metadata": {},
     "output_type": "execute_result"
    }
   ],
   "execution_count": 12
  },
  {
   "metadata": {
    "ExecuteTime": {
     "end_time": "2025-07-27T15:55:01.080505Z",
     "start_time": "2025-07-27T15:55:01.077445Z"
    }
   },
   "cell_type": "code",
   "source": "['Product_Description__c', 'Product_Family__c'] #categorical values or qualitative data",
   "id": "580a5a0f1ec499d3",
   "outputs": [
    {
     "data": {
      "text/plain": [
       "['Product_Description__c', 'Product_Family__c']"
      ]
     },
     "execution_count": 13,
     "metadata": {},
     "output_type": "execute_result"
    }
   ],
   "execution_count": 13
  },
  {
   "metadata": {
    "ExecuteTime": {
     "end_time": "2025-07-27T15:55:01.311104Z",
     "start_time": "2025-07-27T15:55:01.278732Z"
    }
   },
   "cell_type": "code",
   "source": [
    "duet_invoice_df['Product'] = duet_invoice_df['Product_Description__c'].apply(lambda x: x.split(',')[0])\n",
    "duet_invoice_df['Packaging'] = duet_invoice_df['Product_Description__c'].apply(lambda x: x.split(',')[-1])"
   ],
   "id": "77ef01aff77e4a42",
   "outputs": [],
   "execution_count": 14
  },
  {
   "metadata": {
    "ExecuteTime": {
     "end_time": "2025-07-27T15:55:01.719239Z",
     "start_time": "2025-07-27T15:55:01.715754Z"
    }
   },
   "cell_type": "code",
   "source": [
    "num_cols = duet_invoice_df.select_dtypes(include='number').columns.tolist()\n",
    "time_cols = ['CreatedDate_ymd', 'CreatedDate_month', 'CreatedDate_year']\n",
    "bad_cols = ['_', 'Id', 'Name', 'CC_Order__c','CC_Order_Item__c', 'CC_Order_Item__c']\n",
    "cat_cols = ['Product_Description__c', 'Product_Family__c', 'Packaging','Product']\n",
    "numeric_cols = [n for n in num_cols if n not in time_cols and n not in bad_cols]"
   ],
   "id": "89533b6e125c81e1",
   "outputs": [],
   "execution_count": 15
  },
  {
   "metadata": {
    "ExecuteTime": {
     "end_time": "2025-07-27T15:55:02.693159Z",
     "start_time": "2025-07-27T15:55:02.688382Z"
    }
   },
   "cell_type": "code",
   "source": "cat_cols",
   "id": "db2d92acfd487b2d",
   "outputs": [
    {
     "data": {
      "text/plain": [
       "['Product_Description__c', 'Product_Family__c', 'Packaging', 'Product']"
      ]
     },
     "execution_count": 16,
     "metadata": {},
     "output_type": "execute_result"
    }
   ],
   "execution_count": 16
  },
  {
   "metadata": {
    "ExecuteTime": {
     "end_time": "2025-07-27T15:55:03.091228Z",
     "start_time": "2025-07-27T15:55:03.086424Z"
    }
   },
   "cell_type": "code",
   "source": "numeric_cols",
   "id": "bec6181e4cacc295",
   "outputs": [
    {
     "data": {
      "text/plain": [
       "['Sales_Tax__c', 'Total_Cost__c', 'Total_Price__c', 'BurUnitCost__c']"
      ]
     },
     "execution_count": 17,
     "metadata": {},
     "output_type": "execute_result"
    }
   ],
   "execution_count": 17
  },
  {
   "metadata": {
    "ExecuteTime": {
     "end_time": "2025-07-27T15:55:03.430898Z",
     "start_time": "2025-07-27T15:55:03.408320Z"
    }
   },
   "cell_type": "code",
   "source": "duet_invoice_df[numeric_cols].describe().T",
   "id": "9f445790e335810a",
   "outputs": [
    {
     "data": {
      "text/plain": [
       "                  count         mean           std       min      25%  \\\n",
       "Sales_Tax__c     1659.0   105.576667    133.705300      2.31    35.81   \n",
       "Total_Cost__c   36286.0  7023.257001  16229.960439      0.00   681.67   \n",
       "Total_Price__c  47740.0  9000.198765  13538.593156 -59196.78  1032.93   \n",
       "BurUnitCost__c  36285.0     1.621578      7.820673      0.00     0.00   \n",
       "\n",
       "                       50%          75%         max  \n",
       "Sales_Tax__c      75.04000    133.28500     3543.60  \n",
       "Total_Cost__c   3185.27500   8738.51000  1171264.94  \n",
       "Total_Price__c  4617.45000  11850.60000   721712.16  \n",
       "BurUnitCost__c     0.01077      0.30096      495.34  "
      ],
      "text/html": [
       "<div>\n",
       "<style scoped>\n",
       "    .dataframe tbody tr th:only-of-type {\n",
       "        vertical-align: middle;\n",
       "    }\n",
       "\n",
       "    .dataframe tbody tr th {\n",
       "        vertical-align: top;\n",
       "    }\n",
       "\n",
       "    .dataframe thead th {\n",
       "        text-align: right;\n",
       "    }\n",
       "</style>\n",
       "<table border=\"1\" class=\"dataframe\">\n",
       "  <thead>\n",
       "    <tr style=\"text-align: right;\">\n",
       "      <th></th>\n",
       "      <th>count</th>\n",
       "      <th>mean</th>\n",
       "      <th>std</th>\n",
       "      <th>min</th>\n",
       "      <th>25%</th>\n",
       "      <th>50%</th>\n",
       "      <th>75%</th>\n",
       "      <th>max</th>\n",
       "    </tr>\n",
       "  </thead>\n",
       "  <tbody>\n",
       "    <tr>\n",
       "      <th>Sales_Tax__c</th>\n",
       "      <td>1659.0</td>\n",
       "      <td>105.576667</td>\n",
       "      <td>133.705300</td>\n",
       "      <td>2.31</td>\n",
       "      <td>35.81</td>\n",
       "      <td>75.04000</td>\n",
       "      <td>133.28500</td>\n",
       "      <td>3543.60</td>\n",
       "    </tr>\n",
       "    <tr>\n",
       "      <th>Total_Cost__c</th>\n",
       "      <td>36286.0</td>\n",
       "      <td>7023.257001</td>\n",
       "      <td>16229.960439</td>\n",
       "      <td>0.00</td>\n",
       "      <td>681.67</td>\n",
       "      <td>3185.27500</td>\n",
       "      <td>8738.51000</td>\n",
       "      <td>1171264.94</td>\n",
       "    </tr>\n",
       "    <tr>\n",
       "      <th>Total_Price__c</th>\n",
       "      <td>47740.0</td>\n",
       "      <td>9000.198765</td>\n",
       "      <td>13538.593156</td>\n",
       "      <td>-59196.78</td>\n",
       "      <td>1032.93</td>\n",
       "      <td>4617.45000</td>\n",
       "      <td>11850.60000</td>\n",
       "      <td>721712.16</td>\n",
       "    </tr>\n",
       "    <tr>\n",
       "      <th>BurUnitCost__c</th>\n",
       "      <td>36285.0</td>\n",
       "      <td>1.621578</td>\n",
       "      <td>7.820673</td>\n",
       "      <td>0.00</td>\n",
       "      <td>0.00</td>\n",
       "      <td>0.01077</td>\n",
       "      <td>0.30096</td>\n",
       "      <td>495.34</td>\n",
       "    </tr>\n",
       "  </tbody>\n",
       "</table>\n",
       "</div>"
      ]
     },
     "execution_count": 18,
     "metadata": {},
     "output_type": "execute_result"
    }
   ],
   "execution_count": 18
  },
  {
   "metadata": {
    "ExecuteTime": {
     "end_time": "2025-07-27T15:55:03.756003Z",
     "start_time": "2025-07-27T15:55:03.743616Z"
    }
   },
   "cell_type": "code",
   "source": "duet_invoice_df[numeric_cols + cat_cols].isna().sum()",
   "id": "b8017e76491c2b5e",
   "outputs": [
    {
     "data": {
      "text/plain": [
       "Sales_Tax__c              59872\n",
       "Total_Cost__c             25245\n",
       "Total_Price__c            13791\n",
       "BurUnitCost__c            25246\n",
       "Product_Description__c        0\n",
       "Product_Family__c             0\n",
       "Packaging                     0\n",
       "Product                       0\n",
       "dtype: int64"
      ]
     },
     "execution_count": 19,
     "metadata": {},
     "output_type": "execute_result"
    }
   ],
   "execution_count": 19
  },
  {
   "metadata": {
    "ExecuteTime": {
     "end_time": "2025-07-27T15:55:04.141463Z",
     "start_time": "2025-07-27T15:55:04.107625Z"
    }
   },
   "cell_type": "code",
   "source": [
    "for c in cat_cols:\n",
    "    print(c, duet_invoice_df[c].nunique())\n",
    "    display(duet_invoice_df[c].value_counts().head(10))"
   ],
   "id": "659acbc74132e432",
   "outputs": [
    {
     "name": "stdout",
     "output_type": "stream",
     "text": [
      "Product_Description__c 2281\n"
     ]
    },
    {
     "data": {
      "text/plain": [
       "Product_Description__c\n",
       "Sunoco Super C Gold 15W-40 CK-4/SN , Bulk                  1233\n",
       "Idemitsu Full Synthetic Engine Oil 0W-20 SP/GF-6A, Bulk     992\n",
       "Sunoco Ultra FS 5W-30 Dexos1/SP/GF-6A , 12/1 Qt             924\n",
       "Sunoco Ultra SB SAE 5W-30 SQ/GF-7A , Bulk                   896\n",
       "Sunoco Ultra SB SAE 5W-30 SP/GF-6A , 12/1 Qt                869\n",
       "Sunoco Ultra FS 0W-20 Dexos1/SQ/GF-7A , 12/1 Qt             865\n",
       "Sunoco Ultra SB SAE 5W-20 SQ/GF-7A, 12/1 Qt                 779\n",
       "Sunoco Ultra SB SAE 5W-20 SQ/GF-7A, Bulk                    646\n",
       "Sunoco Ultra FS 0W-20 Dexos1/SP/GF-6A , Bulk                632\n",
       "Sunoco Sunvis 846, Bulk                                     623\n",
       "Name: count, dtype: int64"
      ]
     },
     "metadata": {},
     "output_type": "display_data"
    },
    {
     "name": "stdout",
     "output_type": "stream",
     "text": [
      "Product_Family__c 11\n"
     ]
    },
    {
     "data": {
      "text/plain": [
       "Product_Family__c\n",
       "Motor Oil             35086\n",
       "Hydraulic Fluid        6635\n",
       "Transmission Fluid     6432\n",
       "Gear Oil               4269\n",
       "Industrial Oil         4236\n",
       "Grease                 2003\n",
       "Process Oil            1912\n",
       "Anti-Freeze             680\n",
       "Additives               140\n",
       "Equipment               135\n",
       "Name: count, dtype: int64"
      ]
     },
     "metadata": {},
     "output_type": "display_data"
    },
    {
     "name": "stdout",
     "output_type": "stream",
     "text": [
      "Packaging 123\n"
     ]
    },
    {
     "data": {
      "text/plain": [
       "Packaging\n",
       "Bulk           26347\n",
       "12/1 Qt        11297\n",
       "55 Gal Drum     9658\n",
       "5 Gal Pail      3371\n",
       "Epack           2349\n",
       "275 Tote        1702\n",
       "6/1 Gal          960\n",
       "3/1 Gal          772\n",
       "120 Lb Keg       711\n",
       "14oz Pack        537\n",
       "Name: count, dtype: int64"
      ]
     },
     "metadata": {},
     "output_type": "display_data"
    },
    {
     "name": "stdout",
     "output_type": "stream",
     "text": [
      "Product 1509\n"
     ]
    },
    {
     "data": {
      "text/plain": [
       "Product\n",
       "Sunoco Super C Gold 15W-40 CK-4/SN                   1637\n",
       "Sunoco Ultra SB SAE 5W-20 SQ/GF-7A                   1503\n",
       "Sunoco Ultra FS 5W-30 Dexos1/SP/GF-6A                1404\n",
       "Idemitsu Full Synthetic Engine Oil 0W-20 SP/GF-6A     992\n",
       "Sunoco Sunvis 846                                     972\n",
       "Sunoco Ultra SB SAE 5W-30 SP/GF-6A                    920\n",
       "Sunoco Ultra SB SAE 5W-30 SQ/GF-7A                    896\n",
       "Sunoco Ultra FS 0W-20 Dexos1/SQ/GF-7A                 865\n",
       "Sunoco Tacky Red Grease EP #2                         720\n",
       "Sunoco Ultra FS 0W-20 Dexos1/SP/GF-6A                 717\n",
       "Name: count, dtype: int64"
      ]
     },
     "metadata": {},
     "output_type": "display_data"
    }
   ],
   "execution_count": 20
  },
  {
   "metadata": {
    "ExecuteTime": {
     "end_time": "2025-07-27T15:55:04.402079Z",
     "start_time": "2025-07-27T15:55:04.396594Z"
    }
   },
   "cell_type": "code",
   "source": "duet_invoice_df[['Product_Description__c', 'Product_Family__c']]",
   "id": "c0d33ba3bd3a92ee",
   "outputs": [
    {
     "data": {
      "text/plain": [
       "                                  Product_Description__c Product_Family__c\n",
       "0      Idemitsu Full Synthetic Engine Oil 0W-20 SP/GF...         Motor Oil\n",
       "1                       Vitalube Cleaning Fluid, 6/1 Gal    Industrial Oil\n",
       "2             Vitalube Elevator Cable Lubricant, 6/1 Gal    Industrial Oil\n",
       "3                       Vitalube Cleaning Fluid, 6/1 Gal    Industrial Oil\n",
       "4                       Vitalube Cleaning Fluid, 6/1 Gal    Industrial Oil\n",
       "...                                                  ...               ...\n",
       "68398  Top 1 HP Plus Syn Blend 5W-30 SP - ESL, 12/1 L...         Motor Oil\n",
       "68400  Top 1 Evolution HDMO Full Syn 5W-40 CK-4, 4/5 ...         Motor Oil\n",
       "68401  Top 1 Action Plus Syn-Blend MCO 2T JASO FD ESL...         Motor Oil\n",
       "68402  Top 1 VITA LL Gas Engine Oil SAE 40W, 55 Gal Drum         Motor Oil\n",
       "68403                 Idemitsu Full Syn 0W-20 GF-6, Bulk         Motor Oil\n",
       "\n",
       "[61531 rows x 2 columns]"
      ],
      "text/html": [
       "<div>\n",
       "<style scoped>\n",
       "    .dataframe tbody tr th:only-of-type {\n",
       "        vertical-align: middle;\n",
       "    }\n",
       "\n",
       "    .dataframe tbody tr th {\n",
       "        vertical-align: top;\n",
       "    }\n",
       "\n",
       "    .dataframe thead th {\n",
       "        text-align: right;\n",
       "    }\n",
       "</style>\n",
       "<table border=\"1\" class=\"dataframe\">\n",
       "  <thead>\n",
       "    <tr style=\"text-align: right;\">\n",
       "      <th></th>\n",
       "      <th>Product_Description__c</th>\n",
       "      <th>Product_Family__c</th>\n",
       "    </tr>\n",
       "  </thead>\n",
       "  <tbody>\n",
       "    <tr>\n",
       "      <th>0</th>\n",
       "      <td>Idemitsu Full Synthetic Engine Oil 0W-20 SP/GF...</td>\n",
       "      <td>Motor Oil</td>\n",
       "    </tr>\n",
       "    <tr>\n",
       "      <th>1</th>\n",
       "      <td>Vitalube Cleaning Fluid, 6/1 Gal</td>\n",
       "      <td>Industrial Oil</td>\n",
       "    </tr>\n",
       "    <tr>\n",
       "      <th>2</th>\n",
       "      <td>Vitalube Elevator Cable Lubricant, 6/1 Gal</td>\n",
       "      <td>Industrial Oil</td>\n",
       "    </tr>\n",
       "    <tr>\n",
       "      <th>3</th>\n",
       "      <td>Vitalube Cleaning Fluid, 6/1 Gal</td>\n",
       "      <td>Industrial Oil</td>\n",
       "    </tr>\n",
       "    <tr>\n",
       "      <th>4</th>\n",
       "      <td>Vitalube Cleaning Fluid, 6/1 Gal</td>\n",
       "      <td>Industrial Oil</td>\n",
       "    </tr>\n",
       "    <tr>\n",
       "      <th>...</th>\n",
       "      <td>...</td>\n",
       "      <td>...</td>\n",
       "    </tr>\n",
       "    <tr>\n",
       "      <th>68398</th>\n",
       "      <td>Top 1 HP Plus Syn Blend 5W-30 SP - ESL, 12/1 L...</td>\n",
       "      <td>Motor Oil</td>\n",
       "    </tr>\n",
       "    <tr>\n",
       "      <th>68400</th>\n",
       "      <td>Top 1 Evolution HDMO Full Syn 5W-40 CK-4, 4/5 ...</td>\n",
       "      <td>Motor Oil</td>\n",
       "    </tr>\n",
       "    <tr>\n",
       "      <th>68401</th>\n",
       "      <td>Top 1 Action Plus Syn-Blend MCO 2T JASO FD ESL...</td>\n",
       "      <td>Motor Oil</td>\n",
       "    </tr>\n",
       "    <tr>\n",
       "      <th>68402</th>\n",
       "      <td>Top 1 VITA LL Gas Engine Oil SAE 40W, 55 Gal Drum</td>\n",
       "      <td>Motor Oil</td>\n",
       "    </tr>\n",
       "    <tr>\n",
       "      <th>68403</th>\n",
       "      <td>Idemitsu Full Syn 0W-20 GF-6, Bulk</td>\n",
       "      <td>Motor Oil</td>\n",
       "    </tr>\n",
       "  </tbody>\n",
       "</table>\n",
       "<p>61531 rows × 2 columns</p>\n",
       "</div>"
      ]
     },
     "execution_count": 21,
     "metadata": {},
     "output_type": "execute_result"
    }
   ],
   "execution_count": 21
  },
  {
   "metadata": {
    "ExecuteTime": {
     "end_time": "2025-07-27T15:55:04.939762Z",
     "start_time": "2025-07-27T15:55:04.932571Z"
    }
   },
   "cell_type": "code",
   "source": "duet_invoice_df['Product_Description__c'].value_counts()",
   "id": "c3db476815586172",
   "outputs": [
    {
     "data": {
      "text/plain": [
       "Product_Description__c\n",
       "Sunoco Super C Gold 15W-40 CK-4/SN , Bulk                      1233\n",
       "Idemitsu Full Synthetic Engine Oil 0W-20 SP/GF-6A, Bulk         992\n",
       "Sunoco Ultra FS 5W-30 Dexos1/SP/GF-6A , 12/1 Qt                 924\n",
       "Sunoco Ultra SB SAE 5W-30 SQ/GF-7A , Bulk                       896\n",
       "Sunoco Ultra SB SAE 5W-30 SP/GF-6A , 12/1 Qt                    869\n",
       "                                                               ... \n",
       "Sunoco R&O 320, 5 Gal Pail                                        1\n",
       "Top 1 Action Plus Syn-Blend MCO 2T JASO FD, 12/1 Liter Case       1\n",
       "UNITED Universal TH Fluid , 5 Gal Pail                            1\n",
       "Sunoco Sunep 100, 275 Tote                                        1\n",
       "New infinium Blue Drum                                            1\n",
       "Name: count, Length: 2281, dtype: int64"
      ]
     },
     "execution_count": 22,
     "metadata": {},
     "output_type": "execute_result"
    }
   ],
   "execution_count": 22
  },
  {
   "metadata": {
    "ExecuteTime": {
     "end_time": "2025-07-27T15:55:05.437398Z",
     "start_time": "2025-07-27T15:55:05.430158Z"
    }
   },
   "cell_type": "code",
   "source": "duet_invoice_df['Product_Family__c'].value_counts()",
   "id": "5b1f63386109abdc",
   "outputs": [
    {
     "data": {
      "text/plain": [
       "Product_Family__c\n",
       "Motor Oil             35086\n",
       "Hydraulic Fluid        6635\n",
       "Transmission Fluid     6432\n",
       "Gear Oil               4269\n",
       "Industrial Oil         4236\n",
       "Grease                 2003\n",
       "Process Oil            1912\n",
       "Anti-Freeze             680\n",
       "Additives               140\n",
       "Equipment               135\n",
       "Chemicals                 3\n",
       "Name: count, dtype: int64"
      ]
     },
     "execution_count": 23,
     "metadata": {},
     "output_type": "execute_result"
    }
   ],
   "execution_count": 23
  },
  {
   "metadata": {
    "ExecuteTime": {
     "end_time": "2025-07-27T15:55:05.860502Z",
     "start_time": "2025-07-27T15:55:05.855282Z"
    }
   },
   "cell_type": "code",
   "source": "duet_invoice_df['Total_Cost__c'].value_counts()",
   "id": "e63b3c9227f55390",
   "outputs": [
    {
     "data": {
      "text/plain": [
       "Total_Cost__c\n",
       "0.00        907\n",
       "83.34       268\n",
       "85.80       157\n",
       "166.68      112\n",
       "53.70        88\n",
       "           ... \n",
       "5352.11       1\n",
       "1579.49       1\n",
       "2948.39       1\n",
       "1649.73       1\n",
       "25561.95      1\n",
       "Name: count, Length: 27485, dtype: int64"
      ]
     },
     "execution_count": 24,
     "metadata": {},
     "output_type": "execute_result"
    }
   ],
   "execution_count": 24
  },
  {
   "metadata": {
    "ExecuteTime": {
     "end_time": "2025-07-27T15:55:06.236477Z",
     "start_time": "2025-07-27T15:55:06.226941Z"
    }
   },
   "cell_type": "code",
   "source": "duet_invoice_df['Total_Price__c'].value_counts()",
   "id": "51995adea087065d",
   "outputs": [
    {
     "data": {
      "text/plain": [
       "Total_Price__c\n",
       "0.00        1477\n",
       "155.55       229\n",
       "123.00       175\n",
       "449.64       101\n",
       "596.84        99\n",
       "            ... \n",
       "14313.10       1\n",
       "17578.08       1\n",
       "1372.28        1\n",
       "2154.96        1\n",
       "28249.00       1\n",
       "Name: count, Length: 25389, dtype: int64"
      ]
     },
     "execution_count": 25,
     "metadata": {},
     "output_type": "execute_result"
    }
   ],
   "execution_count": 25
  },
  {
   "metadata": {
    "ExecuteTime": {
     "end_time": "2025-07-27T15:55:06.631849Z",
     "start_time": "2025-07-27T15:55:06.624206Z"
    }
   },
   "cell_type": "code",
   "source": [
    "duet_invoice_df[['Product_Description__c',\n",
    "                 'Product_Family__c','Sales_Tax__c', 'Total_Cost__c',\n",
    "                 'Total_Price__c', 'BurUnitCost__c']]"
   ],
   "id": "e33331f5bedc514d",
   "outputs": [
    {
     "data": {
      "text/plain": [
       "                                  Product_Description__c Product_Family__c  \\\n",
       "0      Idemitsu Full Synthetic Engine Oil 0W-20 SP/GF...         Motor Oil   \n",
       "1                       Vitalube Cleaning Fluid, 6/1 Gal    Industrial Oil   \n",
       "2             Vitalube Elevator Cable Lubricant, 6/1 Gal    Industrial Oil   \n",
       "3                       Vitalube Cleaning Fluid, 6/1 Gal    Industrial Oil   \n",
       "4                       Vitalube Cleaning Fluid, 6/1 Gal    Industrial Oil   \n",
       "...                                                  ...               ...   \n",
       "68398  Top 1 HP Plus Syn Blend 5W-30 SP - ESL, 12/1 L...         Motor Oil   \n",
       "68400  Top 1 Evolution HDMO Full Syn 5W-40 CK-4, 4/5 ...         Motor Oil   \n",
       "68401  Top 1 Action Plus Syn-Blend MCO 2T JASO FD ESL...         Motor Oil   \n",
       "68402  Top 1 VITA LL Gas Engine Oil SAE 40W, 55 Gal Drum         Motor Oil   \n",
       "68403                 Idemitsu Full Syn 0W-20 GF-6, Bulk         Motor Oil   \n",
       "\n",
       "       Sales_Tax__c  Total_Cost__c  Total_Price__c  BurUnitCost__c  \n",
       "0               NaN            NaN        54180.00             NaN  \n",
       "1               NaN            NaN          246.00             NaN  \n",
       "2               NaN            NaN          155.55             NaN  \n",
       "3               NaN            NaN          123.00             NaN  \n",
       "4               NaN            NaN          615.00             NaN  \n",
       "...             ...            ...             ...             ...  \n",
       "68398           NaN           0.00            0.00         0.00000  \n",
       "68400           NaN           0.00            0.00         0.00000  \n",
       "68401           NaN           0.00            0.00         0.00000  \n",
       "68402           NaN           0.00            0.00         0.00000  \n",
       "68403           NaN       25561.95        28249.00         0.00613  \n",
       "\n",
       "[61531 rows x 6 columns]"
      ],
      "text/html": [
       "<div>\n",
       "<style scoped>\n",
       "    .dataframe tbody tr th:only-of-type {\n",
       "        vertical-align: middle;\n",
       "    }\n",
       "\n",
       "    .dataframe tbody tr th {\n",
       "        vertical-align: top;\n",
       "    }\n",
       "\n",
       "    .dataframe thead th {\n",
       "        text-align: right;\n",
       "    }\n",
       "</style>\n",
       "<table border=\"1\" class=\"dataframe\">\n",
       "  <thead>\n",
       "    <tr style=\"text-align: right;\">\n",
       "      <th></th>\n",
       "      <th>Product_Description__c</th>\n",
       "      <th>Product_Family__c</th>\n",
       "      <th>Sales_Tax__c</th>\n",
       "      <th>Total_Cost__c</th>\n",
       "      <th>Total_Price__c</th>\n",
       "      <th>BurUnitCost__c</th>\n",
       "    </tr>\n",
       "  </thead>\n",
       "  <tbody>\n",
       "    <tr>\n",
       "      <th>0</th>\n",
       "      <td>Idemitsu Full Synthetic Engine Oil 0W-20 SP/GF...</td>\n",
       "      <td>Motor Oil</td>\n",
       "      <td>NaN</td>\n",
       "      <td>NaN</td>\n",
       "      <td>54180.00</td>\n",
       "      <td>NaN</td>\n",
       "    </tr>\n",
       "    <tr>\n",
       "      <th>1</th>\n",
       "      <td>Vitalube Cleaning Fluid, 6/1 Gal</td>\n",
       "      <td>Industrial Oil</td>\n",
       "      <td>NaN</td>\n",
       "      <td>NaN</td>\n",
       "      <td>246.00</td>\n",
       "      <td>NaN</td>\n",
       "    </tr>\n",
       "    <tr>\n",
       "      <th>2</th>\n",
       "      <td>Vitalube Elevator Cable Lubricant, 6/1 Gal</td>\n",
       "      <td>Industrial Oil</td>\n",
       "      <td>NaN</td>\n",
       "      <td>NaN</td>\n",
       "      <td>155.55</td>\n",
       "      <td>NaN</td>\n",
       "    </tr>\n",
       "    <tr>\n",
       "      <th>3</th>\n",
       "      <td>Vitalube Cleaning Fluid, 6/1 Gal</td>\n",
       "      <td>Industrial Oil</td>\n",
       "      <td>NaN</td>\n",
       "      <td>NaN</td>\n",
       "      <td>123.00</td>\n",
       "      <td>NaN</td>\n",
       "    </tr>\n",
       "    <tr>\n",
       "      <th>4</th>\n",
       "      <td>Vitalube Cleaning Fluid, 6/1 Gal</td>\n",
       "      <td>Industrial Oil</td>\n",
       "      <td>NaN</td>\n",
       "      <td>NaN</td>\n",
       "      <td>615.00</td>\n",
       "      <td>NaN</td>\n",
       "    </tr>\n",
       "    <tr>\n",
       "      <th>...</th>\n",
       "      <td>...</td>\n",
       "      <td>...</td>\n",
       "      <td>...</td>\n",
       "      <td>...</td>\n",
       "      <td>...</td>\n",
       "      <td>...</td>\n",
       "    </tr>\n",
       "    <tr>\n",
       "      <th>68398</th>\n",
       "      <td>Top 1 HP Plus Syn Blend 5W-30 SP - ESL, 12/1 L...</td>\n",
       "      <td>Motor Oil</td>\n",
       "      <td>NaN</td>\n",
       "      <td>0.00</td>\n",
       "      <td>0.00</td>\n",
       "      <td>0.00000</td>\n",
       "    </tr>\n",
       "    <tr>\n",
       "      <th>68400</th>\n",
       "      <td>Top 1 Evolution HDMO Full Syn 5W-40 CK-4, 4/5 ...</td>\n",
       "      <td>Motor Oil</td>\n",
       "      <td>NaN</td>\n",
       "      <td>0.00</td>\n",
       "      <td>0.00</td>\n",
       "      <td>0.00000</td>\n",
       "    </tr>\n",
       "    <tr>\n",
       "      <th>68401</th>\n",
       "      <td>Top 1 Action Plus Syn-Blend MCO 2T JASO FD ESL...</td>\n",
       "      <td>Motor Oil</td>\n",
       "      <td>NaN</td>\n",
       "      <td>0.00</td>\n",
       "      <td>0.00</td>\n",
       "      <td>0.00000</td>\n",
       "    </tr>\n",
       "    <tr>\n",
       "      <th>68402</th>\n",
       "      <td>Top 1 VITA LL Gas Engine Oil SAE 40W, 55 Gal Drum</td>\n",
       "      <td>Motor Oil</td>\n",
       "      <td>NaN</td>\n",
       "      <td>0.00</td>\n",
       "      <td>0.00</td>\n",
       "      <td>0.00000</td>\n",
       "    </tr>\n",
       "    <tr>\n",
       "      <th>68403</th>\n",
       "      <td>Idemitsu Full Syn 0W-20 GF-6, Bulk</td>\n",
       "      <td>Motor Oil</td>\n",
       "      <td>NaN</td>\n",
       "      <td>25561.95</td>\n",
       "      <td>28249.00</td>\n",
       "      <td>0.00613</td>\n",
       "    </tr>\n",
       "  </tbody>\n",
       "</table>\n",
       "<p>61531 rows × 6 columns</p>\n",
       "</div>"
      ]
     },
     "execution_count": 26,
     "metadata": {},
     "output_type": "execute_result"
    }
   ],
   "execution_count": 26
  },
  {
   "metadata": {
    "ExecuteTime": {
     "end_time": "2025-07-27T15:55:07.036506Z",
     "start_time": "2025-07-27T15:55:07.029364Z"
    }
   },
   "cell_type": "code",
   "source": "duet_invoice_df = duet_invoice_df[['Sales_Tax__c', 'Total_Cost__c', 'Total_Price__c', 'BurUnitCost__c', 'Product_Family__c', 'Packaging', 'Product','CreatedDate_month', 'CreatedDate_year']]",
   "id": "282ed29804c70093",
   "outputs": [],
   "execution_count": 27
  },
  {
   "metadata": {
    "ExecuteTime": {
     "end_time": "2025-07-27T15:55:32.893624Z",
     "start_time": "2025-07-27T15:55:32.890714Z"
    }
   },
   "cell_type": "code",
   "source": "duet_invoice_df.shape",
   "id": "4d31be2fb1c5bb7c",
   "outputs": [
    {
     "data": {
      "text/plain": [
       "(61531, 9)"
      ]
     },
     "execution_count": 29,
     "metadata": {},
     "output_type": "execute_result"
    }
   ],
   "execution_count": 29
  },
  {
   "metadata": {
    "ExecuteTime": {
     "end_time": "2025-07-27T15:59:32.719507Z",
     "start_time": "2025-07-27T15:59:32.546330Z"
    }
   },
   "cell_type": "code",
   "source": "#duet_invoice_df.to_csv(directory+\"duet_invoice_cleaned.csv\")",
   "id": "8876eab092e35526",
   "outputs": [],
   "execution_count": 30
  },
  {
   "metadata": {},
   "cell_type": "code",
   "outputs": [],
   "execution_count": null,
   "source": "",
   "id": "531b4eb602ef0888"
  }
 ],
 "metadata": {
  "kernelspec": {
   "display_name": "Python 3",
   "language": "python",
   "name": "python3"
  },
  "language_info": {
   "codemirror_mode": {
    "name": "ipython",
    "version": 2
   },
   "file_extension": ".py",
   "mimetype": "text/x-python",
   "name": "python",
   "nbconvert_exporter": "python",
   "pygments_lexer": "ipython2",
   "version": "2.7.6"
  }
 },
 "nbformat": 4,
 "nbformat_minor": 5
}
