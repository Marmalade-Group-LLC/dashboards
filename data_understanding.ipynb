{
 "cells": [
  {
   "cell_type": "code",
   "id": "initial_id",
   "metadata": {
    "collapsed": true,
    "ExecuteTime": {
     "end_time": "2025-07-26T20:49:30.735252Z",
     "start_time": "2025-07-26T20:49:30.503859Z"
    }
   },
   "source": [
    "import pandas as pd\n",
    "import numpy as np\n",
    "import matplotlib.pyplot as plt\n",
    "import seaborn as sns\n",
    "import os\n",
    "import dash\n",
    "from dash import dcc, html, Input, Output\n",
    "import plotly.express as px"
   ],
   "outputs": [],
   "execution_count": 1
  },
  {
   "metadata": {
    "ExecuteTime": {
     "end_time": "2025-07-26T20:49:48.650676Z",
     "start_time": "2025-07-26T20:49:48.404921Z"
    }
   },
   "cell_type": "code",
   "source": [
    "directory = \"/Users/nirugidla/PycharmProjects/UMICHIGAN_code/dashboards/\"\n",
    "product_data_file = \"ccrz__E_Product__c-7_22_2025.csv\"\n",
    "order_data_file = \"ccrz__E_Order__c-7_22_2025.csv\"\n",
    "invoice_data_file = \"ccrz__E_Invoice__c-7_23_2025 (2).csv\"\n",
    "materials_data_file = \"Materials__c-7_22_2025.csv\"\n",
    "duet_invoice_data_file = \"DUET__Invoice_Line__c-7_24_2025.csv\"\n",
    "\n",
    "product_df = pd.read_csv(os.path.join(directory, product_data_file))\n",
    "order_df = pd.read_csv(os.path.join(directory, order_data_file))\n",
    "invoice_df = pd.read_csv(os.path.join(directory, invoice_data_file))\n",
    "materials_df = pd.read_csv(os.path.join(directory, materials_data_file))\n",
    "duet_invoice_df = pd.read_csv(os.path.join(directory, duet_invoice_data_file))\n",
    "\n",
    "print(len(product_df.columns), \"product columns\")\n",
    "print(len(order_df.columns), \"order columns\")\n",
    "print(len(invoice_df.columns), \"invoice columns\")\n",
    "print(len(materials_df.columns), \"materials columns\")\n",
    "print(len(duet_invoice_df.columns), \"duet_invoice columns\")"
   ],
   "id": "115ac6ab3c700a55",
   "outputs": [
    {
     "name": "stdout",
     "output_type": "stream",
     "text": [
      "16 product columns\n",
      "18 order columns\n",
      "29 invoice columns\n",
      "16 materials columns\n",
      "19 duet_invoice columns\n"
     ]
    }
   ],
   "execution_count": 2
  },
  {
   "metadata": {
    "ExecuteTime": {
     "end_time": "2025-07-25T17:31:37.806575Z",
     "start_time": "2025-07-25T17:31:37.802107Z"
    }
   },
   "cell_type": "code",
   "source": [
    "print(product_df.shape, \"product\")\n",
    "print(order_df.columns.shape, \"order\")\n",
    "print(invoice_df.shape, \"invoice\")\n",
    "print(materials_df.shape, \"materials\")\n",
    "print(duet_invoice_df.shape, \"materials\")"
   ],
   "id": "300581fd4df339a4",
   "outputs": [
    {
     "name": "stdout",
     "output_type": "stream",
     "text": [
      "(1811, 16) product\n",
      "(18,) order\n",
      "(14000, 29) invoice\n",
      "(2922, 16) materials\n",
      "(68404, 19) materials\n"
     ]
    }
   ],
   "execution_count": 71
  },
  {
   "metadata": {
    "ExecuteTime": {
     "end_time": "2025-07-25T17:31:38.217816Z",
     "start_time": "2025-07-25T17:31:38.214232Z"
    }
   },
   "cell_type": "code",
   "source": [
    "# print(list(product_df.columns), \"product\")\n",
    "print(list(order_df.columns), \"order\")\n",
    "# print(list(invoice_df.columns), \"invoice\")\n",
    "# print(list(materials_df.columns), \"materials\")"
   ],
   "id": "1e816f5f0b0150ee",
   "outputs": [
    {
     "name": "stdout",
     "output_type": "stream",
     "text": [
      "['_', 'Id', 'Name', 'AccountId__c', 'ccrz__BillTo__c', 'Billing_Address__c', 'Billing_City_State_Zip__c', 'Bulk_Product_Count__c', 'Billing_Company_Name__c', 'ccrz__BuyerCompanyName__c', 'ccrz__ShipMethod__c', 'Average_Gross_Profit_Margin__c', 'Average_Per_Unit_Profit_Margin__c', 'Average_Net_Profit_Margin__c', 'ccrz__OrderNumber__c', 'Total_Cost__c', 'ccrz__TotalDiscount__c', 'Total_Weight__c'] order\n"
     ]
    }
   ],
   "execution_count": 72
  },
  {
   "metadata": {
    "ExecuteTime": {
     "end_time": "2025-07-25T17:31:38.633974Z",
     "start_time": "2025-07-25T17:31:38.627259Z"
    }
   },
   "cell_type": "code",
   "source": [
    "order_columns = ['_', 'Id', 'Name', 'AccountId__c', 'ccrz__BillTo__c', 'Billing_Address__c',\n",
    "                'Billing_City_State_Zip__c', 'Bulk_Product_Count__c', 'Billing_Company_Name__c',\n",
    "                'ccrz__BuyerCompanyName__c', 'ccrz__ShipMethod__c', 'Average_Gross_Profit_Margin__c',\n",
    "                'Average_Per_Unit_Profit_Margin__c', 'Average_Net_Profit_Margin__c', 'ccrz__OrderNumber__c',\n",
    "                'Total_Cost__c', 'ccrz__TotalDiscount__c', 'Total_Weight__c']\n",
    "\n",
    "order_df = order_df[order_columns]\n",
    "print(order_df.shape, \"order\")"
   ],
   "id": "b16ccb3b39ca16a1",
   "outputs": [
    {
     "name": "stdout",
     "output_type": "stream",
     "text": [
      "(14000, 18) order\n"
     ]
    }
   ],
   "execution_count": 73
  },
  {
   "metadata": {},
   "cell_type": "markdown",
   "source": "Let's take a look what what columns are useful in each dataframe\n",
   "id": "c3f98d9604390464"
  },
  {
   "metadata": {
    "ExecuteTime": {
     "end_time": "2025-07-25T17:31:42.397257Z",
     "start_time": "2025-07-25T17:31:42.392392Z"
    }
   },
   "cell_type": "code",
   "source": "duet_invoice_df.columns",
   "id": "a5e31920019f959a",
   "outputs": [
    {
     "data": {
      "text/plain": [
       "Index(['_', 'Id', 'Name', 'CC_Order__c', 'CC_Order_Item__c', 'CC_Product__c',\n",
       "       'Product_Code__c', 'Product_Description__c', 'Product_Family__c',\n",
       "       'Product_Master_Code__c', 'Product_Name__c', 'Product_SKU__c',\n",
       "       'Sales_Tax__c', 'Ship_To__c', 'Total_Cost__c', 'Total_Price__c',\n",
       "       'CreatedDate', 'Bulk__c', 'BurUnitCost__c'],\n",
       "      dtype='object')"
      ]
     },
     "execution_count": 74,
     "metadata": {},
     "output_type": "execute_result"
    }
   ],
   "execution_count": 74
  },
  {
   "metadata": {
    "ExecuteTime": {
     "end_time": "2025-07-26T20:53:28.792683Z",
     "start_time": "2025-07-26T20:53:28.781797Z"
    }
   },
   "cell_type": "code",
   "source": "duet_invoice_df[['CreatedDate', 'BurUnitCost__c', 'Total_Price__c', 'Total_Cost__c','Product_Description__c']]",
   "id": "38d75d12c9025452",
   "outputs": [
    {
     "data": {
      "text/plain": [
       "                        CreatedDate  BurUnitCost__c  Total_Price__c  \\\n",
       "0      2023-05-24T15:18:13.000+0000             NaN        54180.00   \n",
       "1      2023-05-24T15:18:13.000+0000             NaN          246.00   \n",
       "2      2023-05-24T15:18:13.000+0000             NaN          155.55   \n",
       "3      2023-05-24T15:18:13.000+0000             NaN          123.00   \n",
       "4      2023-05-24T15:18:13.000+0000             NaN          615.00   \n",
       "...                             ...             ...             ...   \n",
       "68399  2025-06-27T21:01:11.000+0000         0.00000            0.00   \n",
       "68400  2025-06-27T21:01:14.000+0000         0.00000            0.00   \n",
       "68401  2025-06-27T21:01:14.000+0000         0.00000            0.00   \n",
       "68402  2025-06-27T21:01:14.000+0000         0.00000            0.00   \n",
       "68403  2025-06-27T21:01:14.000+0000         0.00613        28249.00   \n",
       "\n",
       "       Total_Cost__c                             Product_Description__c  \n",
       "0                NaN  Idemitsu Full Synthetic Engine Oil 0W-20 SP/GF...  \n",
       "1                NaN                   Vitalube Cleaning Fluid, 6/1 Gal  \n",
       "2                NaN         Vitalube Elevator Cable Lubricant, 6/1 Gal  \n",
       "3                NaN                   Vitalube Cleaning Fluid, 6/1 Gal  \n",
       "4                NaN                   Vitalube Cleaning Fluid, 6/1 Gal  \n",
       "...              ...                                                ...  \n",
       "68399           0.00                                                  -  \n",
       "68400           0.00  Top 1 Evolution HDMO Full Syn 5W-40 CK-4, 4/5 ...  \n",
       "68401           0.00  Top 1 Action Plus Syn-Blend MCO 2T JASO FD ESL...  \n",
       "68402           0.00  Top 1 VITA LL Gas Engine Oil SAE 40W, 55 Gal Drum  \n",
       "68403       25561.95                 Idemitsu Full Syn 0W-20 GF-6, Bulk  \n",
       "\n",
       "[68404 rows x 5 columns]"
      ],
      "text/html": [
       "<div>\n",
       "<style scoped>\n",
       "    .dataframe tbody tr th:only-of-type {\n",
       "        vertical-align: middle;\n",
       "    }\n",
       "\n",
       "    .dataframe tbody tr th {\n",
       "        vertical-align: top;\n",
       "    }\n",
       "\n",
       "    .dataframe thead th {\n",
       "        text-align: right;\n",
       "    }\n",
       "</style>\n",
       "<table border=\"1\" class=\"dataframe\">\n",
       "  <thead>\n",
       "    <tr style=\"text-align: right;\">\n",
       "      <th></th>\n",
       "      <th>CreatedDate</th>\n",
       "      <th>BurUnitCost__c</th>\n",
       "      <th>Total_Price__c</th>\n",
       "      <th>Total_Cost__c</th>\n",
       "      <th>Product_Description__c</th>\n",
       "    </tr>\n",
       "  </thead>\n",
       "  <tbody>\n",
       "    <tr>\n",
       "      <th>0</th>\n",
       "      <td>2023-05-24T15:18:13.000+0000</td>\n",
       "      <td>NaN</td>\n",
       "      <td>54180.00</td>\n",
       "      <td>NaN</td>\n",
       "      <td>Idemitsu Full Synthetic Engine Oil 0W-20 SP/GF...</td>\n",
       "    </tr>\n",
       "    <tr>\n",
       "      <th>1</th>\n",
       "      <td>2023-05-24T15:18:13.000+0000</td>\n",
       "      <td>NaN</td>\n",
       "      <td>246.00</td>\n",
       "      <td>NaN</td>\n",
       "      <td>Vitalube Cleaning Fluid, 6/1 Gal</td>\n",
       "    </tr>\n",
       "    <tr>\n",
       "      <th>2</th>\n",
       "      <td>2023-05-24T15:18:13.000+0000</td>\n",
       "      <td>NaN</td>\n",
       "      <td>155.55</td>\n",
       "      <td>NaN</td>\n",
       "      <td>Vitalube Elevator Cable Lubricant, 6/1 Gal</td>\n",
       "    </tr>\n",
       "    <tr>\n",
       "      <th>3</th>\n",
       "      <td>2023-05-24T15:18:13.000+0000</td>\n",
       "      <td>NaN</td>\n",
       "      <td>123.00</td>\n",
       "      <td>NaN</td>\n",
       "      <td>Vitalube Cleaning Fluid, 6/1 Gal</td>\n",
       "    </tr>\n",
       "    <tr>\n",
       "      <th>4</th>\n",
       "      <td>2023-05-24T15:18:13.000+0000</td>\n",
       "      <td>NaN</td>\n",
       "      <td>615.00</td>\n",
       "      <td>NaN</td>\n",
       "      <td>Vitalube Cleaning Fluid, 6/1 Gal</td>\n",
       "    </tr>\n",
       "    <tr>\n",
       "      <th>...</th>\n",
       "      <td>...</td>\n",
       "      <td>...</td>\n",
       "      <td>...</td>\n",
       "      <td>...</td>\n",
       "      <td>...</td>\n",
       "    </tr>\n",
       "    <tr>\n",
       "      <th>68399</th>\n",
       "      <td>2025-06-27T21:01:11.000+0000</td>\n",
       "      <td>0.00000</td>\n",
       "      <td>0.00</td>\n",
       "      <td>0.00</td>\n",
       "      <td>-</td>\n",
       "    </tr>\n",
       "    <tr>\n",
       "      <th>68400</th>\n",
       "      <td>2025-06-27T21:01:14.000+0000</td>\n",
       "      <td>0.00000</td>\n",
       "      <td>0.00</td>\n",
       "      <td>0.00</td>\n",
       "      <td>Top 1 Evolution HDMO Full Syn 5W-40 CK-4, 4/5 ...</td>\n",
       "    </tr>\n",
       "    <tr>\n",
       "      <th>68401</th>\n",
       "      <td>2025-06-27T21:01:14.000+0000</td>\n",
       "      <td>0.00000</td>\n",
       "      <td>0.00</td>\n",
       "      <td>0.00</td>\n",
       "      <td>Top 1 Action Plus Syn-Blend MCO 2T JASO FD ESL...</td>\n",
       "    </tr>\n",
       "    <tr>\n",
       "      <th>68402</th>\n",
       "      <td>2025-06-27T21:01:14.000+0000</td>\n",
       "      <td>0.00000</td>\n",
       "      <td>0.00</td>\n",
       "      <td>0.00</td>\n",
       "      <td>Top 1 VITA LL Gas Engine Oil SAE 40W, 55 Gal Drum</td>\n",
       "    </tr>\n",
       "    <tr>\n",
       "      <th>68403</th>\n",
       "      <td>2025-06-27T21:01:14.000+0000</td>\n",
       "      <td>0.00613</td>\n",
       "      <td>28249.00</td>\n",
       "      <td>25561.95</td>\n",
       "      <td>Idemitsu Full Syn 0W-20 GF-6, Bulk</td>\n",
       "    </tr>\n",
       "  </tbody>\n",
       "</table>\n",
       "<p>68404 rows × 5 columns</p>\n",
       "</div>"
      ]
     },
     "execution_count": 3,
     "metadata": {},
     "output_type": "execute_result"
    }
   ],
   "execution_count": 3
  },
  {
   "metadata": {
    "ExecuteTime": {
     "end_time": "2025-07-25T17:31:59.760226Z",
     "start_time": "2025-07-25T17:31:59.735121Z"
    }
   },
   "cell_type": "code",
   "source": "duet_invoice_df[['CreatedDate', 'BurUnitCost__c', 'Total_Price__c', 'Total_Cost__c','Product_Description__c']].describe()",
   "id": "8d3066b602c22bc",
   "outputs": [
    {
     "data": {
      "text/plain": [
       "       BurUnitCost__c  Total_Price__c  Total_Cost__c\n",
       "count    37295.000000    5.114200e+04   3.729600e+04\n",
       "mean         1.584106    8.522056e+03   6.962957e+03\n",
       "std          7.728378    1.799913e+04   2.040563e+04\n",
       "min          0.000000   -5.919678e+04   0.000000e+00\n",
       "25%          0.000000    6.677250e+02   5.910000e+02\n",
       "50%          0.009920    3.745500e+03   2.874015e+03\n",
       "75%          0.241905    1.125686e+04   8.572397e+03\n",
       "max        495.340000    2.636600e+06   2.331420e+06"
      ],
      "text/html": [
       "<div>\n",
       "<style scoped>\n",
       "    .dataframe tbody tr th:only-of-type {\n",
       "        vertical-align: middle;\n",
       "    }\n",
       "\n",
       "    .dataframe tbody tr th {\n",
       "        vertical-align: top;\n",
       "    }\n",
       "\n",
       "    .dataframe thead th {\n",
       "        text-align: right;\n",
       "    }\n",
       "</style>\n",
       "<table border=\"1\" class=\"dataframe\">\n",
       "  <thead>\n",
       "    <tr style=\"text-align: right;\">\n",
       "      <th></th>\n",
       "      <th>BurUnitCost__c</th>\n",
       "      <th>Total_Price__c</th>\n",
       "      <th>Total_Cost__c</th>\n",
       "    </tr>\n",
       "  </thead>\n",
       "  <tbody>\n",
       "    <tr>\n",
       "      <th>count</th>\n",
       "      <td>37295.000000</td>\n",
       "      <td>5.114200e+04</td>\n",
       "      <td>3.729600e+04</td>\n",
       "    </tr>\n",
       "    <tr>\n",
       "      <th>mean</th>\n",
       "      <td>1.584106</td>\n",
       "      <td>8.522056e+03</td>\n",
       "      <td>6.962957e+03</td>\n",
       "    </tr>\n",
       "    <tr>\n",
       "      <th>std</th>\n",
       "      <td>7.728378</td>\n",
       "      <td>1.799913e+04</td>\n",
       "      <td>2.040563e+04</td>\n",
       "    </tr>\n",
       "    <tr>\n",
       "      <th>min</th>\n",
       "      <td>0.000000</td>\n",
       "      <td>-5.919678e+04</td>\n",
       "      <td>0.000000e+00</td>\n",
       "    </tr>\n",
       "    <tr>\n",
       "      <th>25%</th>\n",
       "      <td>0.000000</td>\n",
       "      <td>6.677250e+02</td>\n",
       "      <td>5.910000e+02</td>\n",
       "    </tr>\n",
       "    <tr>\n",
       "      <th>50%</th>\n",
       "      <td>0.009920</td>\n",
       "      <td>3.745500e+03</td>\n",
       "      <td>2.874015e+03</td>\n",
       "    </tr>\n",
       "    <tr>\n",
       "      <th>75%</th>\n",
       "      <td>0.241905</td>\n",
       "      <td>1.125686e+04</td>\n",
       "      <td>8.572397e+03</td>\n",
       "    </tr>\n",
       "    <tr>\n",
       "      <th>max</th>\n",
       "      <td>495.340000</td>\n",
       "      <td>2.636600e+06</td>\n",
       "      <td>2.331420e+06</td>\n",
       "    </tr>\n",
       "  </tbody>\n",
       "</table>\n",
       "</div>"
      ]
     },
     "execution_count": 76,
     "metadata": {},
     "output_type": "execute_result"
    }
   ],
   "execution_count": 76
  },
  {
   "metadata": {},
   "cell_type": "code",
   "outputs": [],
   "execution_count": null,
   "source": "",
   "id": "9789540797133a72"
  },
  {
   "metadata": {},
   "cell_type": "code",
   "outputs": [],
   "execution_count": null,
   "source": "",
   "id": "15e1286f24d401e2"
  },
  {
   "metadata": {},
   "cell_type": "code",
   "outputs": [],
   "execution_count": null,
   "source": "",
   "id": "580a5a0f1ec499d3"
  },
  {
   "metadata": {},
   "cell_type": "code",
   "outputs": [],
   "execution_count": null,
   "source": "",
   "id": "89533b6e125c81e1"
  },
  {
   "metadata": {},
   "cell_type": "code",
   "outputs": [],
   "execution_count": null,
   "source": "",
   "id": "9f445790e335810a"
  },
  {
   "metadata": {},
   "cell_type": "code",
   "source": "",
   "id": "b8017e76491c2b5e",
   "outputs": [],
   "execution_count": null
  },
  {
   "metadata": {},
   "cell_type": "code",
   "source": "product_df[['Id', 'Category__c', 'Net_Volume__c', 'ccrz__Quantityperunit__c','Packaging_Type__c','COG_Subtotal__c','Purchase_Price__c', 'Raw_Material__c', 'CreatedDate']]",
   "id": "a326222b2638ed64",
   "outputs": [],
   "execution_count": null
  },
  {
   "metadata": {},
   "cell_type": "code",
   "source": "product_df.columns",
   "id": "6e9fe23fa1aa7dd3",
   "outputs": [],
   "execution_count": null
  },
  {
   "metadata": {},
   "cell_type": "code",
   "source": "order_df[['Id', 'Total_Weight__c', 'Total_Cost__c','Billing_Company_Name__c']]",
   "id": "ae63ca1a884f7801",
   "outputs": [],
   "execution_count": null
  },
  {
   "metadata": {},
   "cell_type": "code",
   "source": "order_df.columns",
   "id": "e532a5c555fb360b",
   "outputs": [],
   "execution_count": null
  },
  {
   "metadata": {},
   "cell_type": "code",
   "source": "order_df[['Id', 'Total_Weight__c', 'Total_Cost__c', 'Average_Gross_Profit_Margin__c', 'Average_Per_Unit_Profit_Margin__c','Average_Net_Profit_Margin__c',]].describe()",
   "id": "3b6c16cfed42a344",
   "outputs": [],
   "execution_count": null
  },
  {
   "metadata": {},
   "cell_type": "code",
   "source": "invoice_df[['Id','ccrz__PaidAmount__c']]",
   "id": "434ed3e4aa2f8730",
   "outputs": [],
   "execution_count": null
  },
  {
   "metadata": {},
   "cell_type": "code",
   "source": "invoice_df.columns",
   "id": "5e5b763a4c3df232",
   "outputs": [],
   "execution_count": null
  },
  {
   "metadata": {},
   "cell_type": "code",
   "source": [
    "invoice_df[['_', 'Id', 'Name', 'ccrz__BillAddress__c', 'ccrz__BillTo__c',\n",
    "       'ccrz__CCOrder__c', 'ccrz__Comments__c', 'ccrz__Contact__c',\n",
    "       'ccrz__CurrencyCode__c', 'ccrz__DateDue__c', 'ccrz__DateIssued__c',\n",
    "       'ccrz__InvoiceId__c', 'ccrz__OriginalAmount__c', 'ccrz__PaidAmount__c',\n",
    "       'ccrz__ParentInvoice__c', 'ccrz__RemainingAmount__c',\n",
    "       'ccrz__SoldAddress__c', 'ccrz__SoldTo__c', 'ccrz__Status__c',\n",
    "       'ccrz__Storefront__c', 'ccrz__Terms__c', 'ccrz__Type__c']].describe()"
   ],
   "id": "53e1c29082bcf74e",
   "outputs": [],
   "execution_count": null
  },
  {
   "metadata": {},
   "cell_type": "code",
   "source": "materials_df.columns",
   "id": "b1c4309a62abe754",
   "outputs": [],
   "execution_count": null
  },
  {
   "metadata": {},
   "cell_type": "code",
   "source": [
    "materials_df[['Id', 'Company__c', 'CreatedById', 'CreatedDate', 'ECOGroupID__c',\n",
    "       'MtlPartNum__c', 'MtlSeq__c', 'Operations__c', 'PartNum__c', 'Plant__c',\n",
    "       'PullAsAsm__c', 'QtyPer__c', 'RelatedOperation__c', 'RevisionNum__c',\n",
    "       'SystemModstamp']].describe()"
   ],
   "id": "a2361a91db447024",
   "outputs": [],
   "execution_count": null
  },
  {
   "metadata": {},
   "cell_type": "code",
   "source": "materials_df.head()",
   "id": "64850a23812af333",
   "outputs": [],
   "execution_count": null
  },
  {
   "metadata": {},
   "cell_type": "code",
   "source": [
    "materials_df[['Company__c', 'CreatedDate',\n",
    "       'MtlPartNum__c', 'MtlSeq__c','Plant__c',\n",
    "       'QtyPer__c', 'RelatedOperation__c',\n",
    "       'SystemModstamp']]"
   ],
   "id": "4cb3107b1b9a27c4",
   "outputs": [],
   "execution_count": null
  },
  {
   "metadata": {},
   "cell_type": "code",
   "source": [
    "def process_created_date(df):\n",
    "    # Convert the CreatedDate column to datetime\n",
    "    df['CreatedDate_dt'] = pd.to_datetime(df['CreatedDate'], errors='coerce')\n",
    "    # New column with yyyy-mm-dd\n",
    "    df['CreatedDate_ymd'] = df['CreatedDate_dt'].dt.strftime('%Y-%m-%d')\n",
    "    # New column with year\n",
    "    df['CreatedDate_year'] = df['CreatedDate_dt'].dt.year\n",
    "    # New column with 3-letter month abbreviation\n",
    "    df['CreatedDate_month'] = df['CreatedDate_dt'].dt.strftime('%b')\n",
    "    return df\n"
   ],
   "id": "eafbea5090b6543d",
   "outputs": [],
   "execution_count": null
  },
  {
   "metadata": {},
   "cell_type": "code",
   "source": [
    "materials_df = process_created_date(materials_df)\n",
    "product_df = process_created_date(product_df)"
   ],
   "id": "659acbc74132e432",
   "outputs": [],
   "execution_count": null
  },
  {
   "metadata": {},
   "cell_type": "code",
   "source": "materials_df[['CreatedDate', 'CreatedDate_year','CreatedDate_month','CreatedDate_ymd']]",
   "id": "7b3e87e6bdef8fff",
   "outputs": [],
   "execution_count": null
  },
  {
   "metadata": {},
   "cell_type": "code",
   "source": [
    "# need to find product type to fix the 'Id'\n",
    "top_products = (\n",
    "    product_df.groupby('Id')['Purchase_Price__c']\n",
    "    .sum()\n",
    "    .sort_values(ascending=False)\n",
    "    .head(10))\n",
    "\n",
    "plt.figure(figsize=(10, 6))\n",
    "top_products.plot(kind='bar')\n",
    "plt.title('Top 10 Products by Sales Revenue')\n",
    "plt.ylabel('Total Sales ($)')\n",
    "plt.xlabel('Product Id')\n",
    "plt.xticks(rotation=45)\n",
    "plt.tight_layout()\n",
    "plt.show()\n"
   ],
   "id": "606d29c3d3bafb3c",
   "outputs": [],
   "execution_count": null
  },
  {
   "metadata": {},
   "cell_type": "code",
   "source": [
    "category_sales = (\n",
    "    product_df.groupby('Category__c')['Purchase_Price__c']\n",
    "    .sum()\n",
    "    .sort_values(ascending=False))\n",
    "\n",
    "plt.figure(figsize=(10, 6))\n",
    "category_sales.plot(kind='bar')\n",
    "plt.title('Total Sales by Product Category')\n",
    "plt.ylabel('Total Sales ($)')\n",
    "plt.xlabel('Category')\n",
    "plt.xticks(rotation=45)\n",
    "plt.tight_layout()\n",
    "plt.show()"
   ],
   "id": "c60ecbdc01582b39",
   "outputs": [],
   "execution_count": null
  },
  {
   "metadata": {},
   "cell_type": "code",
   "source": [
    "volume_by_category = (\n",
    "    product_df.groupby('Category__c')['Net_Volume__c']\n",
    "    .sum()\n",
    "    .sort_values(ascending=False))\n",
    "\n",
    "plt.figure(figsize=(10, 6))\n",
    "volume_by_category.plot(kind='bar')\n",
    "plt.title('Total Volume Sold by Product Category')\n",
    "plt.ylabel('Total Volume (Gallons/Units)')\n",
    "plt.xlabel('Category')\n",
    "plt.xticks(rotation=45)\n",
    "plt.tight_layout()\n",
    "plt.show()"
   ],
   "id": "a46e4651a3415b9a",
   "outputs": [],
   "execution_count": null
  },
  {
   "metadata": {},
   "cell_type": "code",
   "source": [
    "packaging_sales = (\n",
    "    product_df.groupby('Packaging_Type__c')['Net_Volume__c']\n",
    "    .sum()\n",
    "    .sort_values(ascending=False))\n",
    "\n",
    "plt.figure(figsize=(10, 6))\n",
    "packaging_sales.plot(kind='bar')\n",
    "plt.title('Total Volume Sold by Packaging Type')\n",
    "plt.ylabel('Total Volume (Gallons/Units)')\n",
    "plt.xlabel('Packaging Type')\n",
    "plt.xticks(rotation=45)\n",
    "plt.tight_layout()\n",
    "plt.show()"
   ],
   "id": "64582c3c51cd4bf6",
   "outputs": [],
   "execution_count": null
  },
  {
   "metadata": {},
   "cell_type": "code",
   "source": [
    "top_volume_skus = (\n",
    "    product_df.groupby('Id')['Net_Volume__c']\n",
    "    .sum()\n",
    "    .sort_values(ascending=False)\n",
    "    .head(10))\n",
    "\n",
    "plt.figure(figsize=(10,6))\n",
    "top_volume_skus.plot(kind='bar')\n",
    "plt.title('Top 10 Products by Total Sales Volume')\n",
    "plt.ylabel('Total Volume (Gallons)')\n",
    "plt.xlabel('Product Id')\n",
    "plt.xticks(rotation=45)\n",
    "plt.tight_layout()\n",
    "plt.show()"
   ],
   "id": "abc5ebcebd38e58",
   "outputs": [],
   "execution_count": null
  },
  {
   "metadata": {},
   "cell_type": "code",
   "source": [
    "avg_price_by_sku = (\n",
    "    product_df.groupby('Id')['Purchase_Price__c']\n",
    "    .mean()\n",
    "    .sort_values(ascending=False)\n",
    "    .head(10))\n",
    "\n",
    "plt.figure(figsize=(10,6))\n",
    "avg_price_by_sku.plot(kind='bar')\n",
    "plt.title('Top 10 Products by Average Sales Price')\n",
    "plt.ylabel('Average Sales Price ($)')\n",
    "plt.xlabel('Product Id')\n",
    "plt.xticks(rotation=45)\n",
    "plt.tight_layout()\n",
    "plt.show()"
   ],
   "id": "ec5227b57f1c9683",
   "outputs": [],
   "execution_count": null
  },
  {
   "metadata": {},
   "cell_type": "code",
   "source": [
    "volume_by_category = (\n",
    "    product_df.groupby('Category__c')['Net_Volume__c']\n",
    "    .sum()\n",
    "    .sort_values(ascending=False))\n",
    "\n",
    "plt.figure(figsize=(10,6))\n",
    "volume_by_category.plot(kind='bar')\n",
    "plt.title('Sales Volume by Product Category')\n",
    "plt.ylabel('Total Volume (Gallons)')\n",
    "plt.xlabel('Category')\n",
    "plt.xticks(rotation=45)\n",
    "plt.tight_layout()\n",
    "plt.show()"
   ],
   "id": "5a4abb03cdef28d1",
   "outputs": [],
   "execution_count": null
  },
  {
   "metadata": {},
   "cell_type": "code",
   "source": [
    "avg_price_by_category = (\n",
    "    product_df.groupby('Category__c')['Purchase_Price__c']\n",
    "    .mean()\n",
    "    .sort_values(ascending=False))\n",
    "\n",
    "plt.figure(figsize=(10,6))\n",
    "avg_price_by_category.plot(kind='bar')\n",
    "plt.title('Average Sales Price by Product Category')\n",
    "plt.ylabel('Average Price ($)')\n",
    "plt.xlabel('Category')\n",
    "plt.xticks(rotation=45)\n",
    "plt.tight_layout()\n",
    "plt.show()"
   ],
   "id": "ade38c60b6b0f938",
   "outputs": [],
   "execution_count": null
  },
  {
   "metadata": {},
   "cell_type": "code",
   "source": [
    "# creating a new column\n",
    "product_df['revenue'] = product_df['ccrz__Quantityperunit__c'] * product_df['Purchase_Price__c']"
   ],
   "id": "48879cc01f1ea41",
   "outputs": [],
   "execution_count": null
  },
  {
   "metadata": {},
   "cell_type": "code",
   "source": "product_df.columns",
   "id": "61538a7f8b8130a1",
   "outputs": [],
   "execution_count": null
  },
  {
   "metadata": {},
   "cell_type": "code",
   "source": [
    "plt.figure(figsize=(10,7))\n",
    "for category, group in product_df.groupby('Category__c'):\n",
    "    plt.scatter(group['Purchase_Price__c'], group['Net_Volume__c'], label=category, alpha=0.7)\n",
    "\n",
    "plt.xlabel('Purchase Price')\n",
    "plt.ylabel('Net Volume')\n",
    "plt.title('Price vs. Volume by Product Category')\n",
    "plt.legend(title='Category', bbox_to_anchor=(1.05, 1), loc='upper left')\n",
    "plt.tight_layout()\n",
    "plt.show()"
   ],
   "id": "15202df7306522dd",
   "outputs": [],
   "execution_count": null
  },
  {
   "metadata": {},
   "cell_type": "code",
   "source": [
    "# Group by both category and packaging type, sum volume\n",
    "grouped = (\n",
    "    product_df.groupby(['Category__c', 'Packaging_Type__c'])['Net_Volume__c']\n",
    "    .sum()\n",
    "    .reset_index())\n",
    "\n",
    "# Make a barplot\n",
    "plt.figure(figsize=(12,6))\n",
    "for category in grouped['Category__c'].unique():\n",
    "    subset = grouped[grouped['Category__c'] == category]\n",
    "    plt.bar(subset['Packaging_Type__c'], subset['Net_Volume__c'], label=category, alpha=0.6)\n",
    "\n",
    "plt.title('Total Volume by Packaging Type and Category')\n",
    "plt.xlabel('Packaging Type')\n",
    "plt.ylabel('Total Volume')\n",
    "plt.legend(title='Category')\n",
    "plt.xticks(rotation=45)\n",
    "plt.tight_layout()\n",
    "plt.show()"
   ],
   "id": "22c67f185d4101ac",
   "outputs": [],
   "execution_count": null
  },
  {
   "metadata": {},
   "cell_type": "code",
   "source": [
    "plt.figure(figsize=(12,7))\n",
    "sns.boxplot(x='Packaging_Type__c', y='Purchase_Price__c', data=product_df, hue='Category__c')\n",
    "plt.title('Price by Packaging Type and Category')\n",
    "plt.xlabel('Packaging Type')\n",
    "plt.ylabel('Purchase Price')\n",
    "plt.legend(title='Category', bbox_to_anchor=(1.05, 1), loc='upper left')\n",
    "plt.xticks(rotation=45)  # Rotate x-axis labels by 45 degrees\n",
    "plt.tight_layout()\n",
    "plt.show()\n"
   ],
   "id": "6f63ea8ddaf6b8ae",
   "outputs": [],
   "execution_count": null
  },
  {
   "metadata": {},
   "cell_type": "code",
   "source": [
    "plt.figure(figsize=(12,7))\n",
    "sns.boxplot(x='Packaging_Type__c', y='COG_Subtotal__c', data=product_df, hue='Category__c')\n",
    "plt.title('Price by Packaging Type and Category')\n",
    "plt.xlabel('Packaging Type')\n",
    "plt.ylabel('Purchase Price')\n",
    "plt.legend(title='Category', bbox_to_anchor=(1.05, 1), loc='upper left')\n",
    "plt.xticks(rotation=45)  # Rotate x-axis labels by 45 degrees\n",
    "plt.tight_layout()\n",
    "plt.show()"
   ],
   "id": "31aff931e36709ce",
   "outputs": [],
   "execution_count": null
  },
  {
   "metadata": {},
   "cell_type": "code",
   "source": [
    "pivot = product_df.pivot_table(\n",
    "    index='Category__c',\n",
    "    columns='Packaging_Type__c',\n",
    "    values='Net_Volume__c',\n",
    "    aggfunc='sum')\n",
    "\n",
    "plt.figure(figsize=(12,6))\n",
    "sns.heatmap(pivot, annot=True, fmt='.0f', cmap='Blues')\n",
    "plt.title('Total Volume by Category and Packaging Type')\n",
    "plt.xlabel('Packaging Type')\n",
    "plt.ylabel('Category')\n",
    "plt.tight_layout()\n",
    "plt.show()"
   ],
   "id": "ddba46bb9455e31e",
   "outputs": [],
   "execution_count": null
  },
  {
   "metadata": {},
   "cell_type": "code",
   "source": [
    "plt.figure(figsize=(12,6))\n",
    "counts = product_df.groupby(['Packaging_Type__c'])['Id'].nunique()\n",
    "counts.plot(kind='bar')\n",
    "plt.title('Number of Products by Packaging Type')\n",
    "plt.xlabel('Packaging Type')\n",
    "plt.ylabel('Number of Unique Products')\n",
    "plt.tight_layout()\n",
    "plt.show()"
   ],
   "id": "95977646d9f44b01",
   "outputs": [],
   "execution_count": null
  },
  {
   "metadata": {},
   "cell_type": "markdown",
   "source": [
    " 1. Sales Performance Analysis\n",
    "Key Metrics:\n",
    "- Sales by product (in gallons and units)\n",
    "- Moving average volume by SKU (trend analysis)\n",
    "- Average sales price per product/SKU\n",
    "- Number of times each item was ordered (demand frequency)\n",
    "\n",
    "Purpose:\n",
    "- Identify top-selling products, pricing trends, and demand patterns."
   ],
   "id": "88467870f41e7540"
  },
  {
   "metadata": {},
   "cell_type": "markdown",
   "source": [
    "Key Questions for Churn & Product Movement\n",
    "\n",
    "How much of each product sold this quarter vs. last quarter?\n",
    "\n",
    "Which products’ sales are growing, and which are declining?\n",
    "\n",
    "How quickly are we turning inventory over for each product?\n",
    "\n",
    "Which products have flat or declining movement and might be at risk of churn (slow movers)?"
   ],
   "id": "3cf3c08b9488c5dd"
  },
  {
   "metadata": {},
   "cell_type": "code",
   "source": "invoice_df",
   "id": "6e9752d8e0ca31f7",
   "outputs": [],
   "execution_count": null
  },
  {
   "metadata": {},
   "cell_type": "code",
   "source": "invoice_df.columns",
   "id": "466a2f00062904c2",
   "outputs": [],
   "execution_count": null
  },
  {
   "metadata": {},
   "cell_type": "code",
   "source": "invoice_df.describe()",
   "id": "31907e35a62db5bd",
   "outputs": [],
   "execution_count": null
  },
  {
   "metadata": {},
   "cell_type": "code",
   "source": [
    "product_df['CreatedDate_ymd'] = pd.to_datetime(product_df['CreatedDate_ymd'])\n",
    "product_df['YearMonth'] = product_df['CreatedDate_ymd'].dt.to_period('M')\n",
    "\n",
    "added_over_time = (\n",
    "    product_df.groupby(['YearMonth', 'Packaging_Type__c'])['Id']\n",
    "    .nunique()\n",
    "    .unstack(fill_value=0))\n",
    "\n",
    "ax = added_over_time.plot(kind='bar', stacked=True, figsize=(14,6))\n",
    "plt.title(\"New Products Added Over Time by Packaging Type\")\n",
    "plt.xlabel(\"Year-Month\")\n",
    "plt.ylabel(\"Number of Products Added\")\n",
    "\n",
    "# Remove the grid\n",
    "plt.grid(False)\n",
    "\n",
    "# Move legend to the right outside the plot\n",
    "plt.legend(\n",
    "    title=\"Packaging Type\",\n",
    "    bbox_to_anchor=(1.02, 1),   # x=1.02 is just outside the axes on the right\n",
    "    loc='upper left',\n",
    "    borderaxespad=0\n",
    ")\n",
    "\n",
    "plt.tight_layout(rect=[0, 0, 0.85, 1])  # Adjust plot area so legend fits\n",
    "plt.show()"
   ],
   "id": "53b5623129733ba8",
   "outputs": [],
   "execution_count": null
  },
  {
   "metadata": {},
   "cell_type": "code",
   "source": [
    "total_volume_by_pack = product_df.groupby('Packaging_Type__c')['Net_Volume__c'].sum()\n",
    "total_volume_by_pack.plot(kind='bar')\n",
    "plt.title(\"Total Theoretical Volume by Packaging Type\")\n",
    "plt.ylabel(\"Net Volume (Gallons/Units)\")\n",
    "plt.tight_layout()\n",
    "plt.show()"
   ],
   "id": "9b68567e81d32cce",
   "outputs": [],
   "execution_count": null
  },
  {
   "metadata": {},
   "cell_type": "code",
   "source": "order_df.columns",
   "id": "f84670f1aa722c9c",
   "outputs": [],
   "execution_count": null
  },
  {
   "metadata": {},
   "cell_type": "code",
   "source": [
    "product_df['CreatedDate_ymd'] = pd.to_datetime(product_df['CreatedDate_ymd'])\n",
    "product_df['YearMonth'] = product_df['CreatedDate_ymd'].dt.to_period('M')\n",
    "\n",
    "products_added = product_df.groupby('YearMonth')['Id'].nunique()\n",
    "\n",
    "plt.figure(figsize=(12,5))\n",
    "products_added.plot(kind='bar')\n",
    "plt.title('New Products Added to Catalog Each Month')\n",
    "plt.xlabel('Year-Month')\n",
    "plt.ylabel('Number of Products Added')\n",
    "plt.tight_layout()\n",
    "plt.show()"
   ],
   "id": "becd90339a7a8390",
   "outputs": [],
   "execution_count": null
  },
  {
   "metadata": {},
   "cell_type": "code",
   "source": [
    "packaging_counts = product_df['Packaging_Type__c'].value_counts()\n",
    "plt.figure(figsize=(10,5))\n",
    "packaging_counts.plot(kind='bar')\n",
    "plt.title('Number of Products by Packaging Type')\n",
    "plt.xlabel('Packaging Type')\n",
    "plt.ylabel('Number of Products')\n",
    "plt.tight_layout()\n",
    "plt.show()"
   ],
   "id": "e8b64d58071e2d4c",
   "outputs": [],
   "execution_count": null
  },
  {
   "metadata": {},
   "cell_type": "code",
   "source": [
    "# Cost by packaging\n",
    "cost_by_pack = product_df.groupby('Packaging_Type__c')['COG_Subtotal__c'].sum()\n",
    "plt.figure(figsize=(10,5))\n",
    "cost_by_pack.plot(kind='bar')\n",
    "plt.title('Total COG Subtotal by Packaging Type')\n",
    "plt.xlabel('Packaging Type')\n",
    "plt.ylabel('Total COG Subtotal')\n",
    "plt.tight_layout()\n",
    "plt.show()"
   ],
   "id": "8fbda9219d2d6fdb",
   "outputs": [],
   "execution_count": null
  },
  {
   "metadata": {},
   "cell_type": "code",
   "source": [
    "materials_df['CreatedDate_ymd'] = pd.to_datetime(materials_df['CreatedDate_ymd'])\n",
    "materials_df['YearMonth'] = materials_df['CreatedDate_ymd'].dt.to_period('M')\n",
    "materials_added = materials_df.groupby('YearMonth')['QtyPer__c'].count()\n",
    "\n",
    "plt.figure(figsize=(12,5))\n",
    "materials_added.plot(kind='bar')\n",
    "plt.title('Materials Records Added Over Time')\n",
    "plt.xlabel('Year-Month')\n",
    "plt.ylabel('Number of Materials')\n",
    "plt.tight_layout()\n",
    "plt.show()"
   ],
   "id": "b91812a56c9c1f14",
   "outputs": [],
   "execution_count": null
  },
  {
   "metadata": {},
   "cell_type": "code",
   "source": [
    "plant_counts = materials_df['Plant__c'].value_counts()\n",
    "plt.figure(figsize=(10,5))\n",
    "plant_counts.plot(kind='bar')\n",
    "plt.title('Materials by Plant')\n",
    "plt.xlabel('Plant')\n",
    "plt.ylabel('Number of Materials')\n",
    "plt.tight_layout()\n",
    "plt.show()"
   ],
   "id": "52655399bb1ce69",
   "outputs": [],
   "execution_count": null
  },
  {
   "metadata": {},
   "cell_type": "code",
   "source": [
    "plt.figure(figsize=(10,5))\n",
    "plt.hist(order_df['Total_Cost__c'].dropna(), bins=30, color='steelblue')\n",
    "plt.title('Distribution of Order Costs')\n",
    "plt.xlabel('Total Cost ($)')\n",
    "plt.ylabel('Number of Orders')\n",
    "plt.tight_layout()\n",
    "plt.show()"
   ],
   "id": "9d585d64fafd85f8",
   "outputs": [],
   "execution_count": null
  },
  {
   "metadata": {},
   "cell_type": "code",
   "source": [
    "plt.boxplot(order_df['Total_Cost__c'].dropna())\n",
    "plt.title('Order Cost Boxplot')\n",
    "plt.ylabel('Total Cost ($)')\n",
    "plt.show()"
   ],
   "id": "d6328e7cc93d3697",
   "outputs": [],
   "execution_count": null
  },
  {
   "metadata": {},
   "cell_type": "code",
   "source": [
    "plant_counts.plot(kind='bar')\n",
    "for i, val in enumerate(plant_counts.values):\n",
    "    plt.text(i, val, str(val), ha='center', va='bottom')\n",
    "plt.show()"
   ],
   "id": "553bb56af395d076",
   "outputs": [],
   "execution_count": null
  },
  {
   "metadata": {},
   "cell_type": "code",
   "source": [
    "print(product_df.shape, \"product\")\n",
    "print(order_df.shape, \"order\")\n",
    "print(invoice_df.shape, \"invoice\")\n",
    "print(materials_df.shape, \"materials\")"
   ],
   "id": "dbbcfce13739ae92",
   "outputs": [],
   "execution_count": null
  },
  {
   "metadata": {},
   "cell_type": "code",
   "source": "invoice_df.columns",
   "id": "452f6d52b6848731",
   "outputs": [],
   "execution_count": null
  },
  {
   "metadata": {},
   "cell_type": "code",
   "source": "invoice_df.describe()",
   "id": "24e70b28f9e4e418",
   "outputs": [],
   "execution_count": null
  },
  {
   "metadata": {},
   "cell_type": "code",
   "source": [
    "# df_final = (\n",
    "#     product_df.merge(order_df, on='Id', how='inner', suffixes=('_product', '_order'))\n",
    "#               .merge(invoice_df, on='Id', how='inner', suffixes=('', '_invoice'))\n",
    "#               .merge(materials_df, on='Id', how='inner', suffixes=('', '_material')))"
   ],
   "id": "33c8fa796c86e37f",
   "outputs": [],
   "execution_count": null
  },
  {
   "metadata": {},
   "cell_type": "code",
   "source": [
    "ids_product = set(product_df['Id'])\n",
    "ids_order = set(order_df['Id'])\n",
    "ids_invoice = set(invoice_df['Id'])\n",
    "ids_materials = set(materials_df['Id'])\n",
    "\n",
    "# Find common IDs across all 4 tables\n",
    "common_ids = ids_product & ids_order & ids_invoice & ids_materials\n",
    "print(f\"Common IDs: {common_ids}\")"
   ],
   "id": "26ffd0f21c52d162",
   "outputs": [],
   "execution_count": null
  },
  {
   "metadata": {},
   "cell_type": "code",
   "source": [
    "name_product = set(product_df['Name'])\n",
    "name_order = set(order_df['Name'])\n",
    "name_invoice = set(invoice_df['Name'])\n",
    "\n",
    "common_names = name_product & name_order & name_invoice\n",
    "print(f\"Common Names: {common_names}\")"
   ],
   "id": "4d29bb6ac29c16c9",
   "outputs": [],
   "execution_count": null
  },
  {
   "metadata": {},
   "cell_type": "code",
   "source": "product_df.columns",
   "id": "d08fba10642e280",
   "outputs": [],
   "execution_count": null
  },
  {
   "metadata": {},
   "cell_type": "code",
   "source": "invoice_df.columns",
   "id": "178a8a8ee0e4a11f",
   "outputs": [],
   "execution_count": null
  },
  {
   "metadata": {},
   "cell_type": "code",
   "source": [
    "# Shipping methods summary (from order data)\n",
    "ship_method_counts = order_df['ccrz__ShipMethod__c'].value_counts().reset_index()\n",
    "ship_method_counts.columns = ['Shipping Method', 'Order Count']\n",
    "ship_method_counts.head()"
   ],
   "id": "b3d5aa51a9be36d1",
   "outputs": [],
   "execution_count": null
  },
  {
   "metadata": {},
   "cell_type": "code",
   "source": [
    "invoice_df['CreatedDate'] = pd.to_datetime(invoice_df['CreatedDate'], errors='coerce')\n",
    "invoice_df['Quarter'] = invoice_df['CreatedDate'].dt.to_period('Q')\n",
    "quarterly_sales = invoice_df.groupby('Quarter')['ccrz__OriginalAmount__c'].sum().reset_index()\n",
    "print(quarterly_sales.head())"
   ],
   "id": "7d40a5d85a7c0bd0",
   "outputs": [],
   "execution_count": null
  },
  {
   "metadata": {},
   "cell_type": "code",
   "source": [
    "invoice_df['ccrz__OriginalAmount__c'] = pd.to_numeric(invoice_df['ccrz__OriginalAmount__c'], errors='coerce')\n",
    "\n",
    "# --- SALES BY MONTH (TREND) ---\n",
    "invoice_df['YearMonth'] = invoice_df['CreatedDate'].dt.to_period('M')\n",
    "monthly_sales = invoice_df.groupby('YearMonth')['ccrz__OriginalAmount__c'].sum().reset_index()\n",
    "\n",
    "# --- SALES BY CUSTOMER ---\n",
    "sales_by_customer = invoice_df.groupby('ccrz__CCOrder__r.Billing_Company_Name__c')['ccrz__OriginalAmount__c'].sum().reset_index()\n",
    "sales_by_customer = sales_by_customer.sort_values('ccrz__OriginalAmount__c', ascending=False).head(10)\n",
    "\n",
    "# --- INVOICE STATUS (OPEN/CLOSED) ---\n",
    "invoice_status = invoice_df['ccrz__Status__c'].value_counts().reset_index()\n",
    "invoice_status.columns = ['Status', 'Count']"
   ],
   "id": "fc96720dc5a86fdc",
   "outputs": [],
   "execution_count": null
  },
  {
   "metadata": {},
   "cell_type": "code",
   "source": "monthly_sales.head()",
   "id": "334e470dd08e2e67",
   "outputs": [],
   "execution_count": null
  },
  {
   "metadata": {},
   "cell_type": "code",
   "source": "sales_by_customer.head()",
   "id": "f8e3f3c9226fc461",
   "outputs": [],
   "execution_count": null
  },
  {
   "metadata": {},
   "cell_type": "code",
   "source": "",
   "id": "c3db476815586172",
   "outputs": [],
   "execution_count": null
  }
 ],
 "metadata": {
  "kernelspec": {
   "display_name": "Python 3",
   "language": "python",
   "name": "python3"
  },
  "language_info": {
   "codemirror_mode": {
    "name": "ipython",
    "version": 2
   },
   "file_extension": ".py",
   "mimetype": "text/x-python",
   "name": "python",
   "nbconvert_exporter": "python",
   "pygments_lexer": "ipython2",
   "version": "2.7.6"
  }
 },
 "nbformat": 4,
 "nbformat_minor": 5
}
